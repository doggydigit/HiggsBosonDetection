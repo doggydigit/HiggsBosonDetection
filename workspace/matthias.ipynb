{
 "cells": [
  {
   "cell_type": "markdown",
   "metadata": {},
   "source": [
    "# Set up Environment"
   ]
  },
  {
   "cell_type": "code",
   "execution_count": 84,
   "metadata": {},
   "outputs": [
    {
     "name": "stdout",
     "output_type": "stream",
     "text": [
      "The autoreload extension is already loaded. To reload it, use:\n",
      "  %reload_ext autoreload\n"
     ]
    }
   ],
   "source": [
    "# Useful starting lines\n",
    "%matplotlib inline\n",
    "import numpy as np\n",
    "import matplotlib.pyplot as plt\n",
    "import matplotlib.gridspec as gridspec\n",
    "import seaborn as sns\n",
    "%load_ext autoreload\n",
    "%autoreload 2\n",
    "\n",
    "# Import functions in scripts\n",
    "import os\n",
    "import sys\n",
    "module_path = os.path.abspath(os.path.join('../scripts'))\n",
    "if module_path not in sys.path:\n",
    "    sys.path.append(module_path)\n",
    "from proj1_helpers import *\n",
    "from implementations import *\n",
    "np.set_printoptions(suppress=True)"
   ]
  },
  {
   "cell_type": "markdown",
   "metadata": {},
   "source": [
    "# Load the data"
   ]
  },
  {
   "cell_type": "code",
   "execution_count": 85,
   "metadata": {},
   "outputs": [
    {
     "name": "stdout",
     "output_type": "stream",
     "text": [
      "(250000, 30)\n"
     ]
    }
   ],
   "source": [
    "targets, traindata, ids = load_csv_data(\"../data/train.csv\",False)\n",
    "nr_traindata, nr_columns = traindata.shape\n",
    "print(traindata.shape)"
   ]
  },
  {
   "cell_type": "markdown",
   "metadata": {},
   "source": [
    "# Preprocess Data"
   ]
  },
  {
   "cell_type": "code",
   "execution_count": 93,
   "metadata": {},
   "outputs": [],
   "source": [
    "data = traindata[0:200000-1]\n",
    "#data = add_sin_cos(data)\n",
    "data = add_mass_binaries(data)\n",
    "insert_mean_for_nan(data)\n",
    "(d0,d1,d2,d3,l0,l1,l2,l3) = split_data_by_jet_num(data,targets)\n",
    "#(d01,d11,d21,d31,l01,l11,l21,l31) = split_data_by_jet_num(data,targets)\n",
    "#(d0,l0) = remove_outliers(d01, l01, 2)\n",
    "#(d1,l1) = remove_outliers(d11, l11, 2)\n",
    "#(d2,l2) = remove_outliers(d21, l21, 2)\n",
    "#(d3,l3) = remove_outliers(d31, l31, 2)\n",
    "#(d0,means0,stds0) = second_order_features_and_cubic(d0)\n",
    "#(d1,means1,stds1) = second_order_features_and_cubic(d1)\n",
    "#(d2,means2,stds2) = second_order_features_and_cubic(d2)\n",
    "#(d3,means3,stds3) = second_order_features_and_cubic(d3)\n",
    "(d0,means0,stds0) = build_train_features(d0,16)\n",
    "(d1,means1,stds1) = build_train_features(d1,16)\n",
    "(d2,means2,stds2) = build_train_features(d2,16)\n",
    "(d3,means3,stds3) = build_train_features(d3,16)\n",
    "#(d01,means01,stds01) = second_order_features_and_cubic(d01)\n",
    "#(d11,means11,stds11) = second_order_features_and_cubic(d11)\n",
    "#(d21,means21,stds21) = second_order_features_and_cubic(d21)\n",
    "#(d31,means31,stds31) = second_order_features_and_cubic(d31)"
   ]
  },
  {
   "cell_type": "code",
   "execution_count": 12,
   "metadata": {},
   "outputs": [
    {
     "data": {
      "text/plain": [
       "200000"
      ]
     },
     "execution_count": 12,
     "metadata": {},
     "output_type": "execute_result"
    }
   ],
   "source": [
    "len(d0)+len(d1)+len(d2)+len(d3)\n"
   ]
  },
  {
   "cell_type": "code",
   "execution_count": 313,
   "metadata": {},
   "outputs": [
    {
     "data": {
      "text/plain": [
       "248161"
      ]
     },
     "execution_count": 313,
     "metadata": {},
     "output_type": "execute_result"
    }
   ],
   "source": [
    "len(l0)+len(l1)+len(l2)+len(l3)"
   ]
  },
  {
   "cell_type": "markdown",
   "metadata": {},
   "source": [
    "# Train Model"
   ]
  },
  {
   "cell_type": "code",
   "execution_count": 68,
   "metadata": {},
   "outputs": [
    {
     "name": "stdout",
     "output_type": "stream",
     "text": [
      "0.837936\n"
     ]
    }
   ],
   "source": [
    "lambda_ = 10**(-13)\n",
    "w0 = ridge_regression(l0, d0, lambda_ = lambda_)\n",
    "w1 = ridge_regression(l1, d1, lambda_ = lambda_)\n",
    "w2 = ridge_regression(l2, d2, lambda_ = lambda_)\n",
    "w3 = ridge_regression(l3, d3, lambda_ = lambda_)\n",
    "#a0 = accuracy(w0[0],d01,l01,len(d01),\"linear\")\n",
    "#a1 = accuracy(w1[0],d11,l11,len(d11),\"linear\")\n",
    "#a2 = accuracy(w2[0],d21,l21,len(d21),\"linear\")\n",
    "#a3 = accuracy(w3[0],d31,l31,len(d31),\"linear\")\n",
    "a0 = accuracy(w0[0],d0,l0,len(d0),\"linear\")\n",
    "a1 = accuracy(w1[0],d1,l1,len(d1),\"linear\")\n",
    "a2 = accuracy(w2[0],d2,l2,len(d2),\"linear\")\n",
    "a3 = accuracy(w3[0],d3,l3,len(d3),\"linear\")\n",
    "aa=(a0*len(d0)+a1*len(d1)+a2*len(d2)+a3*len(d3))/nr_traindata\n",
    "print aa"
   ]
  },
  {
   "cell_type": "code",
   "execution_count": 91,
   "metadata": {
    "collapsed": true
   },
   "outputs": [],
   "source": [
    "import implementations\n",
    "import proj1_helpers\n",
    "seed = 54\n",
    "k_fold = 3\n",
    "lambda_ = 10**(-13)\n",
    "k_indices0 = build_k_indices(l0, k_fold, seed)\n",
    "k_indices1 = build_k_indices(l1, k_fold, seed)\n",
    "k_indices2 = build_k_indices(l2, k_fold, seed)\n",
    "k_indices3 = build_k_indices(l3, k_fold, seed)\n",
    "\n",
    "(tre0, tee0) = cross_validation(l0,d0, k_indices0, k_fold, lambda_, \"linear\")\n",
    "(tre1, tee1) = cross_validation(l1,d1, k_indices1, k_fold, lambda_, \"linear\")\n",
    "(tre2, tee2) = cross_validation(l2,d2, k_indices2, k_fold, lambda_, \"linear\")\n",
    "(tre3, tee3) = cross_validation(l3,d3, k_indices3, k_fold, lambda_, \"linear\")"
   ]
  },
  {
   "cell_type": "code",
   "execution_count": 89,
   "metadata": {},
   "outputs": [
    {
     "name": "stdout",
     "output_type": "stream",
     "text": [
      "0.833547385659\n",
      "0.839042303853\n"
     ]
    }
   ],
   "source": [
    "print (tee0*len(d0)+tee1*len(d1)+tee2*len(d2)+tee3*len(d3))/250000\n",
    "print (tre0*len(d0)+tre1*len(d1)+tre2*len(d2)+tre3*len(d3))/250000"
   ]
  },
  {
   "cell_type": "code",
   "execution_count": 92,
   "metadata": {},
   "outputs": [
    {
     "name": "stdout",
     "output_type": "stream",
     "text": [
      "0.83305938606\n",
      "0.838386303983\n"
     ]
    }
   ],
   "source": [
    "print (tee0*len(d0)+tee1*len(d1)+tee2*len(d2)+tee3*len(d3))/250000\n",
    "print (tre0*len(d0)+tre1*len(d1)+tre2*len(d2)+tre3*len(d3))/250000"
   ]
  },
  {
   "cell_type": "markdown",
   "metadata": {},
   "source": [
    "# Create Submission File"
   ]
  },
  {
   "cell_type": "code",
   "execution_count": null,
   "metadata": {
    "collapsed": true
   },
   "outputs": [],
   "source": []
  },
  {
   "cell_type": "code",
   "execution_count": 69,
   "metadata": {
    "collapsed": true
   },
   "outputs": [],
   "source": [
    "test_targets, test_data, test_ids = load_csv_data(\"../data/test.csv\",False)\n",
    "nr_testdata, nr_testcolumns = test_data.shape\n",
    "#test_features = white_cubic_features(test_data,nr_testcolumns,nr_testdata)\n",
    "#test_predictions = predict_labels(weights, test_features)\n",
    "#create_csv_submission(test_ids, test_predictions, \"Kozak_Nurmi_Tsai2\")"
   ]
  },
  {
   "cell_type": "code",
   "execution_count": 73,
   "metadata": {
    "collapsed": true
   },
   "outputs": [],
   "source": [
    "td = test_data\n",
    "#td = add_sin_cos(td)\n",
    "td = add_mass_binaries(td)\n",
    "insert_mean_for_nan(td)\n",
    "(td0,td1,td2,td3,m0,m1,m2,m3) = split_testdata_by_jet_num(td)\n",
    "#d0 = second_order_features(d0,len(d0[0]),len(d0))\n",
    "#d1 = second_order_features(d1,len(d1[0]),len(d1))\n",
    "#d2 = second_order_features(d2,len(d2[0]),len(d2))\n",
    "#d3 = second_order_features(d3,len(d3[0]),len(d3))\n",
    "#td0 = second_order_features_and_cubic_for_test(td0,means0,stds0)\n",
    "#td1 = second_order_features_and_cubic_for_test(td1,means1,stds1)\n",
    "#td2 = second_order_features_and_cubic_for_test(td2,means2,stds2)\n",
    "#td3 = second_order_features_and_cubic_for_test(td3,means3,stds3)\n",
    "td0 = build_test_features(td0,means0,stds0,16)\n",
    "td1 = build_test_features(td1,means1,stds1,16)\n",
    "td2 = build_test_features(td2,means2,stds2,16)\n",
    "td3 = build_test_features(td3,means3,stds3,16)\n"
   ]
  },
  {
   "cell_type": "code",
   "execution_count": 74,
   "metadata": {
    "collapsed": true
   },
   "outputs": [],
   "source": [
    "test_predictions0 = predict_labels(w0[0], td0)\n",
    "test_predictions1 = predict_labels(w1[0], td1)\n",
    "test_predictions2 = predict_labels(w2[0], td2)\n",
    "test_predictions3 = predict_labels(w3[0], td3)"
   ]
  },
  {
   "cell_type": "code",
   "execution_count": 75,
   "metadata": {
    "collapsed": true
   },
   "outputs": [],
   "source": [
    "pred = np.ones(len(test_ids))\n",
    "pred[m0] = test_predictions0\n",
    "pred[m1] = test_predictions1\n",
    "pred[m2] = test_predictions2\n",
    "pred[m3] = test_predictions3\n"
   ]
  },
  {
   "cell_type": "code",
   "execution_count": 76,
   "metadata": {
    "collapsed": true
   },
   "outputs": [],
   "source": [
    "create_csv_submission(test_ids, pred, \"Kozak_Nurmi_Tsai8\")"
   ]
  },
  {
   "cell_type": "code",
   "execution_count": 77,
   "metadata": {},
   "outputs": [
    {
     "name": "stdout",
     "output_type": "stream",
     "text": [
      "568238\n"
     ]
    }
   ],
   "source": [
    "np.min(test_data[:,22])\n",
    "np.max(test_data[:,22])\n",
    "print len(test_predictions0)+len(test_predictions1)+len(test_predictions2)+len(test_predictions3)"
   ]
  },
  {
   "cell_type": "code",
   "execution_count": 9,
   "metadata": {},
   "outputs": [
    {
     "ename": "ValueError",
     "evalue": "setting an array element with a sequence.",
     "output_type": "error",
     "traceback": [
      "\u001b[0;31m---------------------------------------------------------------------------\u001b[0m",
      "\u001b[0;31mValueError\u001b[0m                                Traceback (most recent call last)",
      "\u001b[0;32m<ipython-input-9-0642079d8b72>\u001b[0m in \u001b[0;36m<module>\u001b[0;34m()\u001b[0m\n\u001b[0;32m----> 1\u001b[0;31m \u001b[0mpredict_labels\u001b[0m\u001b[0;34m(\u001b[0m\u001b[0mw0\u001b[0m\u001b[0;34m,\u001b[0m\u001b[0md0\u001b[0m\u001b[0;34m)\u001b[0m\u001b[0;34m\u001b[0m\u001b[0m\n\u001b[0m",
      "\u001b[0;32m/home/chi/Documents/Study/MA3/Machine Learning/HiggsBosonDetection/scripts/proj1_helpers.py\u001b[0m in \u001b[0;36mpredict_labels\u001b[0;34m(weights, data)\u001b[0m\n\u001b[1;32m     28\u001b[0m \u001b[0;32mdef\u001b[0m \u001b[0mpredict_labels\u001b[0m\u001b[0;34m(\u001b[0m\u001b[0mweights\u001b[0m\u001b[0;34m,\u001b[0m \u001b[0mdata\u001b[0m\u001b[0;34m)\u001b[0m\u001b[0;34m:\u001b[0m\u001b[0;34m\u001b[0m\u001b[0m\n\u001b[1;32m     29\u001b[0m     \u001b[0;34m\"\"\"Generates class predictions given weights, and a test data matrix\"\"\"\u001b[0m\u001b[0;34m\u001b[0m\u001b[0m\n\u001b[0;32m---> 30\u001b[0;31m     \u001b[0my_pred\u001b[0m \u001b[0;34m=\u001b[0m \u001b[0mnp\u001b[0m\u001b[0;34m.\u001b[0m\u001b[0mdot\u001b[0m\u001b[0;34m(\u001b[0m\u001b[0mdata\u001b[0m\u001b[0;34m,\u001b[0m \u001b[0mweights\u001b[0m\u001b[0;34m)\u001b[0m\u001b[0;34m\u001b[0m\u001b[0m\n\u001b[0m\u001b[1;32m     31\u001b[0m     \u001b[0my_pred\u001b[0m\u001b[0;34m[\u001b[0m\u001b[0mnp\u001b[0m\u001b[0;34m.\u001b[0m\u001b[0mwhere\u001b[0m\u001b[0;34m(\u001b[0m\u001b[0my_pred\u001b[0m \u001b[0;34m<=\u001b[0m \u001b[0;36m0\u001b[0m\u001b[0;34m)\u001b[0m\u001b[0;34m]\u001b[0m \u001b[0;34m=\u001b[0m \u001b[0;34m-\u001b[0m\u001b[0;36m1\u001b[0m\u001b[0;34m\u001b[0m\u001b[0m\n\u001b[1;32m     32\u001b[0m     \u001b[0my_pred\u001b[0m\u001b[0;34m[\u001b[0m\u001b[0mnp\u001b[0m\u001b[0;34m.\u001b[0m\u001b[0mwhere\u001b[0m\u001b[0;34m(\u001b[0m\u001b[0my_pred\u001b[0m \u001b[0;34m>\u001b[0m \u001b[0;36m0\u001b[0m\u001b[0;34m)\u001b[0m\u001b[0;34m]\u001b[0m \u001b[0;34m=\u001b[0m \u001b[0;36m1\u001b[0m\u001b[0;34m\u001b[0m\u001b[0m\n",
      "\u001b[0;31mValueError\u001b[0m: setting an array element with a sequence."
     ]
    }
   ],
   "source": [
    "predict_labels(w0,d0)"
   ]
  },
  {
   "cell_type": "code",
   "execution_count": 229,
   "metadata": {},
   "outputs": [
    {
     "data": {
      "text/plain": [
       "-5.0978073192915332"
      ]
     },
     "execution_count": 229,
     "metadata": {},
     "output_type": "execute_result"
    }
   ],
   "source": [
    "np.min(w0[0])"
   ]
  },
  {
   "cell_type": "code",
   "execution_count": 8,
   "metadata": {
    "collapsed": true
   },
   "outputs": [],
   "source": [
    "w0 = ridge_regression(l0, d0, lambda_ = lambda_)"
   ]
  },
  {
   "cell_type": "code",
   "execution_count": 26,
   "metadata": {},
   "outputs": [
    {
     "data": {
      "text/plain": [
       "568238"
      ]
     },
     "execution_count": 26,
     "metadata": {},
     "output_type": "execute_result"
    }
   ],
   "source": [
    "len(test_predictions0)+len(test_predictions1)+len(test_predictions2)+len(test_predictions3)"
   ]
  },
  {
   "cell_type": "code",
   "execution_count": 22,
   "metadata": {},
   "outputs": [
    {
     "ename": "NameError",
     "evalue": "name 'data' is not defined",
     "output_type": "error",
     "traceback": [
      "\u001b[0;31m---------------------------------------------------------------------------\u001b[0m",
      "\u001b[0;31mNameError\u001b[0m                                 Traceback (most recent call last)",
      "\u001b[0;32m<ipython-input-22-c32229b5dda9>\u001b[0m in \u001b[0;36m<module>\u001b[0;34m()\u001b[0m\n\u001b[0;32m----> 1\u001b[0;31m \u001b[0mlen\u001b[0m\u001b[0;34m(\u001b[0m\u001b[0mdata\u001b[0m\u001b[0;34m)\u001b[0m\u001b[0;34m\u001b[0m\u001b[0m\n\u001b[0m",
      "\u001b[0;31mNameError\u001b[0m: name 'data' is not defined"
     ]
    }
   ],
   "source": [
    "len(data)"
   ]
  },
  {
   "cell_type": "code",
   "execution_count": null,
   "metadata": {
    "collapsed": true
   },
   "outputs": [],
   "source": [
    "del td\n",
    "del td0\n",
    "del td1\n",
    "del td2\n",
    "del td3\n"
   ]
  },
  {
   "cell_type": "code",
   "execution_count": 19,
   "metadata": {},
   "outputs": [
    {
     "name": "stdout",
     "output_type": "stream",
     "text": [
      "0.821500319697\n",
      "0.825828317154\n",
      "0.826346316123\n",
      "0.827888315073\n",
      "0.828466314372\n",
      "0.828810313962\n",
      "0.829298313781\n",
      "0.829620313471\n",
      "0.829736313361\n",
      "0.829904313071\n",
      "0.829966312971\n",
      "0.830060312771\n",
      "0.83018031252\n",
      "0.83025031239\n",
      "0.83027631226\n",
      "0.83022431229\n"
     ]
    }
   ],
   "source": [
    "maxpol = 17\n",
    "trainerrors = np.zeros(maxpol-1)\n",
    "testerrors = np.zeros(maxpol-1)\n",
    "seed = 54\n",
    "k_fold = 3\n",
    "#lambda_ = 0.000002\n",
    "data = traindata\n",
    "data = add_mass_binaries(data)\n",
    "insert_mean_for_nan(data)\n",
    "(dd0,dd1,dd2,dd3,l0,l1,l2,l3) = split_data_by_jet_num(data,targets)\n",
    "k_indices0 = build_k_indices(l0, k_fold, seed)\n",
    "k_indices1 = build_k_indices(l1, k_fold, seed)\n",
    "k_indices2 = build_k_indices(l2, k_fold, seed)\n",
    "k_indices3 = build_k_indices(l3, k_fold, seed)\n",
    "for p in range(2,maxpol+1):  \n",
    "    (d0,means0,stds0) = build_train_features(dd0,p)\n",
    "    (d1,means1,stds1) = build_train_features(dd1,p)\n",
    "    (d2,means2,stds2) = build_train_features(dd2,p)\n",
    "    (d3,means3,stds3) = build_train_features(dd3,p)\n",
    "    (tre0, tee0) = cross_validation(l0,d0, k_indices0, k_fold, lambda_, \"linear\")\n",
    "    (tre1, tee1) = cross_validation(l1,d1, k_indices1, k_fold, lambda_, \"linear\")\n",
    "    (tre2, tee2) = cross_validation(l2,d2, k_indices2, k_fold, lambda_, \"linear\")\n",
    "    (tre3, tee3) = cross_validation(l3,d3, k_indices3, k_fold, lambda_, \"linear\")\n",
    "    trainerrors[p-2] = (tee0*len(d0)+tee1*len(d1)+tee2*len(d2)+tee3*len(d3))/250000\n",
    "    testerrors[p-2] = (tre0*len(d0)+tre1*len(d1)+tre2*len(d2)+tre3*len(d3))/250000\n",
    "    print testerrors[p-2]"
   ]
  },
  {
   "cell_type": "code",
   "execution_count": 21,
   "metadata": {
    "collapsed": true
   },
   "outputs": [],
   "source": [
    "polytesterrors = trainerrors\n",
    "polytrainerrors = testerrors"
   ]
  },
  {
   "cell_type": "code",
   "execution_count": 61,
   "metadata": {},
   "outputs": [
    {
     "name": "stdout",
     "output_type": "stream",
     "text": [
      "0.833595385059\n",
      "0.83371938602\n",
      "0.833363385459\n"
     ]
    }
   ],
   "source": [
    "lambdas = [-14.5,-13.5,-12.5]\n",
    "trainerrors = np.zeros(len(lambdas))\n",
    "testerrors = np.zeros(len(lambdas))\n",
    "seed = 54\n",
    "k_fold = 3\n",
    "data = traindata\n",
    "data = add_mass_binaries(data)\n",
    "insert_mean_for_nan(data)\n",
    "(d0,d1,d2,d3,l0,l1,l2,l3) = split_data_by_jet_num(data,targets)\n",
    "k_indices0 = build_k_indices(l0, k_fold, seed)\n",
    "k_indices1 = build_k_indices(l1, k_fold, seed)\n",
    "k_indices2 = build_k_indices(l2, k_fold, seed)\n",
    "k_indices3 = build_k_indices(l3, k_fold, seed)\n",
    "(d0,means0,stds0) = build_train_features(d0,16)\n",
    "(d1,means1,stds1) = build_train_features(d1,16)\n",
    "(d2,means2,stds2) = build_train_features(d2,16)\n",
    "(d3,means3,stds3) = build_train_features(d3,16)\n",
    "for l in range(0,len(lambdas)):  \n",
    "    lambda_ = 10**lambdas[l]\n",
    "    (tre0, tee0) = cross_validation(l0,d0, k_indices0, k_fold, lambda_, \"linear\")\n",
    "    (tre1, tee1) = cross_validation(l1,d1, k_indices1, k_fold, lambda_, \"linear\")\n",
    "    (tre2, tee2) = cross_validation(l2,d2, k_indices2, k_fold, lambda_, \"linear\")\n",
    "    (tre3, tee3) = cross_validation(l3,d3, k_indices3, k_fold, lambda_, \"linear\")\n",
    "    testerrors[l] = (tee0*len(d0)+tee1*len(d1)+tee2*len(d2)+tee3*len(d3))/250000\n",
    "    trainerrors[l] = (tre0*len(d0)+tre1*len(d1)+tre2*len(d2)+tre3*len(d3))/250000\n",
    "    print testerrors[l]"
   ]
  },
  {
   "cell_type": "code",
   "execution_count": 25,
   "metadata": {
    "collapsed": true
   },
   "outputs": [],
   "source": [
    "np.savetxt(\"crossvallerrortestpoly.csv\",testerrors,delimiter=',')"
   ]
  },
  {
   "cell_type": "code",
   "execution_count": 39,
   "metadata": {
    "collapsed": true
   },
   "outputs": [],
   "source": [
    "aaa=np.stack((np.array([0,3,4,5,6,7,8,9,10,11,12,13,14,15,16,17]), polytrainerrors, polytesterrors),axis=0)"
   ]
  },
  {
   "cell_type": "code",
   "execution_count": 40,
   "metadata": {},
   "outputs": [
    {
     "name": "stdout",
     "output_type": "stream",
     "text": [
      "[[  0.           3.           4.           5.           6.           7.\n",
      "    8.           9.          10.          11.          12.          13.\n",
      "   14.          15.          16.          17.        ]\n",
      " [  0.82150032   0.82582832   0.82634632   0.82788832   0.82846631\n",
      "    0.82881031   0.82929831   0.82962031   0.82973631   0.82990431\n",
      "    0.82996631   0.83006031   0.83018031   0.83025031   0.83027631\n",
      "    0.83022431]\n",
      " [  0.81838736   0.82230736   0.82269136   0.82411937   0.82468737\n",
      "    0.82503537   0.82529937   0.82549537   0.82555937   0.82561137\n",
      "    0.82565137   0.82582737   0.82589137   0.82587537   0.82591937\n",
      "    0.82587137]]\n"
     ]
    }
   ],
   "source": [
    "print aaa"
   ]
  },
  {
   "cell_type": "code",
   "execution_count": 64,
   "metadata": {
    "collapsed": true
   },
   "outputs": [],
   "source": [
    "np.savetxt(\"crossvallmbda05.csv\",aaa,delimiter=',')"
   ]
  },
  {
   "cell_type": "code",
   "execution_count": 62,
   "metadata": {
    "collapsed": true
   },
   "outputs": [],
   "source": [
    "aaa=np.stack((np.array(lambdas), trainerrors, testerrors),axis=0)"
   ]
  },
  {
   "cell_type": "code",
   "execution_count": 63,
   "metadata": {},
   "outputs": [
    {
     "name": "stdout",
     "output_type": "stream",
     "text": [
      "[[-14.5        -13.5        -12.5       ]\n",
      " [  0.8392563    0.8391883    0.8387303 ]\n",
      " [  0.83359539   0.83371939   0.83336339]]\n"
     ]
    }
   ],
   "source": [
    "print aaa"
   ]
  },
  {
   "cell_type": "code",
   "execution_count": 71,
   "metadata": {
    "collapsed": true
   },
   "outputs": [],
   "source": [
    "del data"
   ]
  },
  {
   "cell_type": "code",
   "execution_count": 72,
   "metadata": {
    "collapsed": true
   },
   "outputs": [],
   "source": [
    "del d0\n",
    "del d1\n",
    "del d2\n",
    "del d3"
   ]
  },
  {
   "cell_type": "code",
   "execution_count": null,
   "metadata": {
    "collapsed": true
   },
   "outputs": [],
   "source": []
  }
 ],
 "metadata": {
  "anaconda-cloud": {},
  "kernelspec": {
   "display_name": "Python 2",
   "language": "python",
   "name": "python2"
  },
  "language_info": {
   "codemirror_mode": {
    "name": "ipython",
    "version": 2
   },
   "file_extension": ".py",
   "mimetype": "text/x-python",
   "name": "python",
   "nbconvert_exporter": "python",
   "pygments_lexer": "ipython2",
   "version": "2.7.13"
  }
 },
 "nbformat": 4,
 "nbformat_minor": 1
}
