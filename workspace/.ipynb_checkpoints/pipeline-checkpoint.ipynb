{
 "cells": [
  {
   "cell_type": "code",
   "execution_count": 2,
   "metadata": {
    "collapsed": true
   },
   "outputs": [],
   "source": [
    "# Useful starting lines\n",
    "%matplotlib inline\n",
    "import numpy as np\n",
    "import matplotlib.pyplot as plt\n",
    "%load_ext autoreload\n",
    "%autoreload 2"
   ]
  },
  {
   "cell_type": "markdown",
   "metadata": {},
   "source": [
    "# Load the data"
   ]
  },
  {
   "cell_type": "code",
   "execution_count": 3,
   "metadata": {},
   "outputs": [
    {
     "ename": "SyntaxError",
     "evalue": "invalid syntax (<ipython-input-3-8885bf666eb4>, line 1)",
     "output_type": "error",
     "traceback": [
      "\u001b[0;36m  File \u001b[0;32m\"<ipython-input-3-8885bf666eb4>\"\u001b[0;36m, line \u001b[0;32m1\u001b[0m\n\u001b[0;31m    from ../scripts/proj1_helpers import *\u001b[0m\n\u001b[0m           ^\u001b[0m\n\u001b[0;31mSyntaxError\u001b[0m\u001b[0;31m:\u001b[0m invalid syntax\n"
     ]
    }
   ],
   "source": [
    "from ../scripts/proj1_helpers import *"
   ]
  },
  {
   "cell_type": "code",
   "execution_count": 3,
   "metadata": {},
   "outputs": [
    {
     "data": {
      "text/plain": [
       "((10000,), (10000, 2))"
      ]
     },
     "execution_count": 3,
     "metadata": {},
     "output_type": "execute_result"
    }
   ],
   "source": [
    "y.shape, tx.shape"
   ]
  },
  {
   "cell_type": "markdown",
   "metadata": {},
   "source": [
    "# 1 Computing the Cost Function"
   ]
  },
  {
   "cell_type": "markdown",
   "metadata": {},
   "source": [
    "Fill in the `compute_loss` function below:\n",
    "<a id='compute_loss'></a>\n"
   ]
  },
  {
   "cell_type": "code",
   "execution_count": 103,
   "metadata": {
    "collapsed": true
   },
   "outputs": [],
   "source": [
    "def compute_loss(y, tx, w):\n",
    "    \"\"\"Calculate the loss.\n",
    "\n",
    "    You can calculate the loss using mse or mae.\n",
    "    \"\"\"\n",
    "    mse = np.mean((y - tx.dot(w))**2)/2\n",
    "    return mse"
   ]
  },
  {
   "cell_type": "code",
   "execution_count": 92,
   "metadata": {},
   "outputs": [
    {
     "data": {
      "text/plain": [
       "5458.3770844516202"
      ]
     },
     "execution_count": 92,
     "metadata": {},
     "output_type": "execute_result"
    }
   ],
   "source": [
    "w = np.array([1,2])\n",
    "compute_loss(y,tx,w)"
   ]
  },
  {
   "cell_type": "markdown",
   "metadata": {},
   "source": [
    "# 2 Grid Search\n",
    "\n",
    "Fill in the function `grid_search()` below:"
   ]
  },
  {
   "cell_type": "code",
   "execution_count": 31,
   "metadata": {
    "collapsed": true
   },
   "outputs": [],
   "source": [
    "def grid_search(y, tx, w0, w1):\n",
    "    \"\"\"Algorithm for grid search.\"\"\"\n",
    "    losses = np.zeros((len(w0), len(w1)))\n",
    "    for x0 in range(len(w0)):\n",
    "        for x1 in range(len(w1)):\n",
    "            w = np.array([w0[x0],w1[x1]])\n",
    "            losses[x0,x1] = compute_loss(y,tx,w)\n",
    "    return losses"
   ]
  },
  {
   "cell_type": "markdown",
   "metadata": {},
   "source": [
    "Let us play with the grid search demo now!"
   ]
  },
  {
   "cell_type": "code",
   "execution_count": 93,
   "metadata": {},
   "outputs": [
    {
     "name": "stdout",
     "output_type": "stream",
     "text": [
      "Grid Search: loss*=28.8103878561, w0*=72.7272727273, w1*=13.6363636364, execution time=0.403 seconds\n"
     ]
    },
    {
     "data": {
      "image/png": "[encoded data removed]",
      "text/plain": [
       "<matplotlib.figure.Figure at 0x7f6ced883750>"
      ]
     },
     "metadata": {},
     "output_type": "display_data"
    }
   ],
   "source": [
    "from grid_search import generate_w, get_best_parameters\n",
    "from plots import grid_visualization\n",
    "\n",
    "# Generate the grid of parameters to be swept\n",
    "grid_w0, grid_w1 = generate_w(num_intervals=100)\n",
    "\n",
    "# Start the grid search\n",
    "start_time = datetime.datetime.now()\n",
    "grid_losses = grid_search(y, tx, grid_w0, grid_w1)\n",
    "\n",
    "# Select the best combinaison\n",
    "loss_star, w0_star, w1_star = get_best_parameters(grid_w0, grid_w1, grid_losses)\n",
    "end_time = datetime.datetime.now()\n",
    "execution_time = (end_time - start_time).total_seconds()\n",
    "\n",
    "# Print the results\n",
    "print(\"Grid Search: loss*={l}, w0*={w0}, w1*={w1}, execution time={t:.3f} seconds\".format(\n",
    "      l=loss_star, w0=w0_star, w1=w1_star, t=execution_time))\n",
    "\n",
    "# Plot the results\n",
    "fig = grid_visualization(grid_losses, grid_w0, grid_w1, mean_x, std_x, height, weight)\n",
    "fig.set_size_inches(10.0,6.0)\n",
    "fig.savefig(\"grid_plot\")  # Optional saving"
   ]
  },
  {
   "cell_type": "markdown",
   "metadata": {},
   "source": [
    "# 3 Gradient Descent"
   ]
  },
  {
   "cell_type": "markdown",
   "metadata": {},
   "source": [
    "Again, please fill in the functions `compute_gradient` below:"
   ]
  },
  {
   "cell_type": "code",
   "execution_count": 54,
   "metadata": {
    "collapsed": true
   },
   "outputs": [],
   "source": [
    "def compute_gradient(y, tx, w):\n",
    "    \"\"\"Compute the gradient.\"\"\"\n",
    "    e = (tx.dot(w) - y)/len(y)\n",
    "    g1 = np.sum(e)\n",
    "    g2 = e.dot(tx[:,1])\n",
    "    g = np.array([g1,g2])\n",
    "    return g"
   ]
  },
  {
   "cell_type": "code",
   "execution_count": 55,
   "metadata": {},
   "outputs": [
    {
     "data": {
      "text/plain": [
       "array([ 26.706078  ,   6.52028757])"
      ]
     },
     "execution_count": 55,
     "metadata": {},
     "output_type": "execute_result"
    }
   ],
   "source": [
    "w = np.array([100,20])\n",
    "compute_gradient(y,tx,w)"
   ]
  },
  {
   "cell_type": "code",
   "execution_count": 56,
   "metadata": {},
   "outputs": [
    {
     "data": {
      "text/plain": [
       "array([-23.293922  ,  -3.47971243])"
      ]
     },
     "execution_count": 56,
     "metadata": {},
     "output_type": "execute_result"
    }
   ],
   "source": [
    "w = np.array([50,10])\n",
    "compute_gradient(y,tx,w)"
   ]
  },
  {
   "cell_type": "markdown",
   "metadata": {},
   "source": [
    "Please fill in the functions `gradient_descent` below:"
   ]
  },
  {
   "cell_type": "code",
   "execution_count": 57,
   "metadata": {
    "collapsed": true
   },
   "outputs": [],
   "source": [
    "def gradient_descent(y, tx, initial_w, max_iters, gamma):\n",
    "    \"\"\"Gradient descent algorithm.\"\"\"\n",
    "    # Define parameters to store w and loss\n",
    "    ws = [initial_w]\n",
    "    losses = []\n",
    "    w = initial_w\n",
    "    for n_iter in range(max_iters):\n",
    "        # compute gradient and loss\n",
    "        loss = compute_loss(y,tx,w)\n",
    "        g = compute_gradient(y,tx,w)\n",
    "        # update w by gradient\n",
    "        w = w - gamma*g\n",
    "        # store w and loss\n",
    "        ws.append(w)\n",
    "        losses.append(loss)\n",
    "        print(\"Gradient Descent({bi}/{ti}): loss={l}, w0={w0}, w1={w1}\".format(\n",
    "              bi=n_iter, ti=max_iters - 1, l=loss, w0=w[0], w1=w[1]))\n",
    "\n",
    "    return losses, ws"
   ]
  },
  {
   "cell_type": "markdown",
   "metadata": {},
   "source": [
    "Test your gradient descent function through gradient descent demo shown below:"
   ]
  },
  {
   "cell_type": "code",
   "execution_count": 94,
   "metadata": {},
   "outputs": [
    {
     "name": "stdout",
     "output_type": "stream",
     "text": [
      "Gradient Descent(0/49): loss=5658.54444888, w0=14.7264544919, w1=2.89514097529\n",
      "Gradient Descent(1/49): loss=3631.29172035, w0=26.5076180855, w1=5.21125375552\n",
      "Gradient Descent(2/49): loss=2333.84997409, w0=35.9325489603, w1=7.0641439797\n",
      "Gradient Descent(3/49): loss=1503.48725648, w0=43.4724936602, w1=8.54645615905\n",
      "Gradient Descent(4/49): loss=972.055117211, w0=49.5044494201, w1=9.73230590253\n",
      "Gradient Descent(5/49): loss=631.938548079, w0=54.330014028, w1=10.6809856973\n",
      "Gradient Descent(6/49): loss=414.263943835, w0=58.1904657144, w1=11.4399295331\n",
      "Gradient Descent(7/49): loss=274.952197119, w0=61.2788270635, w1=12.0470846018\n",
      "Gradient Descent(8/49): loss=185.79267922, w0=63.7495161427, w1=12.5328086567\n",
      "Gradient Descent(9/49): loss=128.730587765, w0=65.7260674061, w1=12.9213879007\n",
      "Gradient Descent(10/49): loss=92.2108492341, w0=67.3073084168, w1=13.2322512958\n",
      "Gradient Descent(11/49): loss=68.8382165741, w0=68.5723012254, w1=13.4809420119\n",
      "Gradient Descent(12/49): loss=53.8797316717, w0=69.5842954723, w1=13.6798945848\n",
      "Gradient Descent(13/49): loss=44.3063013342, w0=70.3938908698, w1=13.8390566432\n",
      "Gradient Descent(14/49): loss=38.1793059182, w0=71.0415671878, w1=13.9663862898\n",
      "Gradient Descent(15/49): loss=34.2580288519, w0=71.5597082422, w1=14.0682500071\n",
      "Gradient Descent(16/49): loss=31.7484115295, w0=71.9742210857, w1=14.149740981\n",
      "Gradient Descent(17/49): loss=30.1422564432, w0=72.3058313605, w1=14.2149337601\n",
      "Gradient Descent(18/49): loss=29.1143171879, w0=72.5711195803, w1=14.2670879834\n",
      "Gradient Descent(19/49): loss=28.4564360646, w0=72.7833501562, w1=14.308811362\n",
      "Gradient Descent(20/49): loss=28.0353921456, w0=72.9531346169, w1=14.3421900649\n",
      "Gradient Descent(21/49): loss=27.7659240375, w0=73.0889621855, w1=14.3688930272\n",
      "Gradient Descent(22/49): loss=27.5934644483, w0=73.1976242403, w1=14.390255397\n",
      "Gradient Descent(23/49): loss=27.4830903112, w0=73.2845538842, w1=14.4073452929\n",
      "Gradient Descent(24/49): loss=27.4124508635, w0=73.3540975993, w1=14.4210172096\n",
      "Gradient Descent(25/49): loss=27.3672416169, w0=73.4097325714, w1=14.431954743\n",
      "Gradient Descent(26/49): loss=27.3383076991, w0=73.4542405491, w1=14.4407047697\n",
      "Gradient Descent(27/49): loss=27.3197899917, w0=73.4898469312, w1=14.447704791\n",
      "Gradient Descent(28/49): loss=27.307938659, w0=73.5183320369, w1=14.4533048081\n",
      "Gradient Descent(29/49): loss=27.3003538061, w0=73.5411201215, w1=14.4577848218\n",
      "Gradient Descent(30/49): loss=27.2954995002, w0=73.5593505891, w1=14.4613688327\n",
      "Gradient Descent(31/49): loss=27.2923927444, w0=73.5739349632, w1=14.4642360415\n",
      "Gradient Descent(32/49): loss=27.2904044207, w0=73.5856024625, w1=14.4665298084\n",
      "Gradient Descent(33/49): loss=27.2891318936, w0=73.594936462, w1=14.468364822\n",
      "Gradient Descent(34/49): loss=27.2883174762, w0=73.6024036615, w1=14.4698328329\n",
      "Gradient Descent(35/49): loss=27.287796249, w0=73.6083774212, w1=14.4710072416\n",
      "Gradient Descent(36/49): loss=27.2874626637, w0=73.6131564289, w1=14.4719467686\n",
      "Gradient Descent(37/49): loss=27.2872491691, w0=73.6169796351, w1=14.4726983902\n",
      "Gradient Descent(38/49): loss=27.2871125325, w0=73.6200382, w1=14.4732996874\n",
      "Gradient Descent(39/49): loss=27.2870250851, w0=73.6224850519, w1=14.4737807252\n",
      "Gradient Descent(40/49): loss=27.2869691188, w0=73.6244425335, w1=14.4741655555\n",
      "Gradient Descent(41/49): loss=27.2869333003, w0=73.6260085187, w1=14.4744734197\n",
      "Gradient Descent(42/49): loss=27.2869103765, w0=73.6272613069, w1=14.474719711\n",
      "Gradient Descent(43/49): loss=27.2868957052, w0=73.6282635375, w1=14.4749167441\n",
      "Gradient Descent(44/49): loss=27.2868863157, w0=73.6290653219, w1=14.4750743706\n",
      "Gradient Descent(45/49): loss=27.2868803063, w0=73.6297067495, w1=14.4752004717\n",
      "Gradient Descent(46/49): loss=27.2868764603, w0=73.6302198915, w1=14.4753013527\n",
      "Gradient Descent(47/49): loss=27.2868739989, w0=73.6306304052, w1=14.4753820574\n",
      "Gradient Descent(48/49): loss=27.2868724236, w0=73.6309588161, w1=14.4754466212\n",
      "Gradient Descent(49/49): loss=27.2868714154, w0=73.6312215448, w1=14.4754982723\n",
      "Gradient Descent: execution time=0.019 seconds\n"
     ]
    }
   ],
   "source": [
    "# from gradient_descent import *\n",
    "from plots import gradient_descent_visualization\n",
    "\n",
    "# Define the parameters of the algorithm.\n",
    "max_iters = 50\n",
    "gamma = 0.2\n",
    "\n",
    "# Initialization\n",
    "w_initial = np.array([0, 0])\n",
    "\n",
    "# Start gradient descent.\n",
    "start_time = datetime.datetime.now()\n",
    "gradient_losses, gradient_ws = gradient_descent(y, tx, w_initial, max_iters, gamma)\n",
    "end_time = datetime.datetime.now()\n",
    "\n",
    "# Print result\n",
    "exection_time = (end_time - start_time).total_seconds()\n",
    "print(\"Gradient Descent: execution time={t:.3f} seconds\".format(t=exection_time))"
   ]
  },
  {
   "cell_type": "code",
   "execution_count": 95,
   "metadata": {},
   "outputs": [
    {
     "data": {
      "application/vnd.jupyter.widget-view+json": {
       "model_id": "d6fe7f39d35e47ccbd6da9570884ba8a"
      }
     },
     "metadata": {},
     "output_type": "display_data"
    },
    {
     "data": {
      "text/plain": [
       "<function __main__.plot_figure>"
      ]
     },
     "execution_count": 95,
     "metadata": {},
     "output_type": "execute_result"
    },
    {
     "data": {
      "image/png": "[encoded data removed]",
      "text/plain": [
       "<matplotlib.figure.Figure at 0x7f6ceda3d1d0>"
      ]
     },
     "metadata": {},
     "output_type": "display_data"
    }
   ],
   "source": [
    "# Time Visualization\n",
    "from ipywidgets import IntSlider, interact\n",
    "\n",
    "def plot_figure(n_iter):\n",
    "    fig = gradient_descent_visualization(\n",
    "        gradient_losses, gradient_ws, grid_losses, grid_w0, grid_w1, mean_x, std_x, height, weight, n_iter)\n",
    "    fig.set_size_inches(10.0, 6.0)\n",
    "\n",
    "interact(plot_figure, n_iter=IntSlider(min=1, max=len(gradient_ws)))"
   ]
  },
  {
   "cell_type": "markdown",
   "metadata": {},
   "source": [
    "# 4 Stochastic gradient descent"
   ]
  },
  {
   "cell_type": "code",
   "execution_count": 96,
   "metadata": {
    "collapsed": true
   },
   "outputs": [],
   "source": [
    "def compute_stoch_gradient(y, tx, w):\n",
    "    \"\"\"Compute a stochastic gradient from just few examples n and their corresponding y_n labels.\"\"\"\n",
    "    # ***************************************************\n",
    "    # INSERT YOUR CODE HERE\n",
    "    # TODO: implement stochastic gradient computation.It's same as the gradient descent.\n",
    "    # ***************************************************\n",
    "    raise NotImplementedError\n",
    "\n",
    "\n",
    "def stochastic_gradient_descent(\n",
    "        y, tx, initial_w, batch_size, max_iters, gamma):\n",
    "    \"\"\"Stochastic gradient descent algorithm.\"\"\"\n",
    "    ws = [initial_w]\n",
    "    losses = []\n",
    "    n_iter = 0\n",
    "    w = initial_w\n",
    "    for minibatch_y, minibatch_tx in batch_iter(y, tx, batch_size, max_iters):\n",
    "        # compute gradient and loss\n",
    "        loss = compute_loss(y,tx,w)\n",
    "        g = compute_gradient(minibatch_y,minibatch_tx,w)\n",
    "        # update w by gradient\n",
    "        w = w - gamma*g\n",
    "        # store w and loss\n",
    "        ws.append(w)\n",
    "        losses.append(loss)\n",
    "        n_iter = n_iter + 1\n",
    "        print(\"Gradient Descent({bi}/{ti}): loss={l}, w0={w0}, w1={w1}\".format(\n",
    "              bi=n_iter, ti=max_iters, l=loss, w0=w[0], w1=w[1]))\n",
    "    return losses, ws"
   ]
  },
  {
   "cell_type": "code",
   "execution_count": 99,
   "metadata": {},
   "outputs": [
    {
     "name": "stdout",
     "output_type": "stream",
     "text": [
      "Gradient Descent(1/50): loss=5658.54444888, w0=11.8922766443, w1=-7.07964297584\n",
      "Gradient Descent(2/50): loss=4303.74697394, w0=30.690090494, w1=24.2735342818\n",
      "Gradient Descent(3/50): loss=1967.31532266, w0=35.3464301835, w1=28.5114843093\n",
      "Gradient Descent(4/50): loss=1690.09569271, w0=43.3639957181, w1=24.5337565907\n",
      "Gradient Descent(5/50): loss=1044.61985082, w0=51.6669390374, w1=13.0838072572\n",
      "Gradient Descent(6/50): loss=511.700120961, w0=55.1962783954, w1=8.39515010137\n",
      "Gradient Descent(7/50): loss=404.145893137, w0=56.8344261438, w1=6.69444722477\n",
      "Gradient Descent(8/50): loss=370.002481119, w0=59.8008033031, w1=6.58033751023\n",
      "Gradient Descent(9/50): loss=280.933234502, w0=60.6975788779, w1=5.14941614385\n",
      "Gradient Descent(10/50): loss=281.572829201, w0=67.8607446616, w1=22.2721917735\n",
      "Gradient Descent(11/50): loss=121.382610684, w0=69.797928567, w1=21.0419798841\n",
      "Gradient Descent(12/50): loss=85.1050301862, w0=69.0356285581, w1=20.8637438212\n",
      "Gradient Descent(13/50): loss=89.2230463411, w0=69.9365992176, w1=22.5882847936\n",
      "Gradient Descent(14/50): loss=106.758823248, w0=69.8439738394, w1=22.4984772574\n",
      "Gradient Descent(15/50): loss=106.002952736, w0=72.933262007, w1=18.4349447339\n",
      "Gradient Descent(16/50): loss=43.4510654846, w0=73.2105909213, w1=18.4132929644\n",
      "Gradient Descent(17/50): loss=42.9692848935, w0=72.8827070966, w1=18.360530961\n",
      "Gradient Descent(18/50): loss=42.940591564, w0=72.7898508693, w1=18.427289376\n",
      "Gradient Descent(19/50): loss=43.6115638165, w0=72.8150293463, w1=18.4440158052\n",
      "Gradient Descent(20/50): loss=43.7022475571, w0=73.6371867022, w1=17.3380662233\n",
      "Gradient Descent(21/50): loss=35.480006253, w0=73.8099172939, w1=17.1288402207\n",
      "Gradient Descent(22/50): loss=34.3575544651, w0=72.5984403097, w1=18.4936074768\n",
      "Gradient Descent(23/50): loss=44.4992198439, w0=75.1792429106, w1=16.8061978096\n",
      "Gradient Descent(24/50): loss=35.1111845107, w0=75.923775002, w1=16.4687890052\n",
      "Gradient Descent(25/50): loss=36.5102378686, w0=74.6137950089, w1=17.3318470764\n",
      "Gradient Descent(26/50): loss=36.4078044039, w0=73.0002273893, w1=15.0972116638\n",
      "Gradient Descent(27/50): loss=28.0726212808, w0=74.492955378, w1=13.0060370761\n",
      "Gradient Descent(28/50): loss=30.1875681523, w0=74.4157850217, w1=12.9167405837\n",
      "Gradient Descent(29/50): loss=30.3311312238, w0=75.1529229953, w1=13.6004667051\n",
      "Gradient Descent(30/50): loss=30.3652895309, w0=75.3505253276, w1=13.6753931864\n",
      "Gradient Descent(31/50): loss=30.8797613421, w0=74.5552993673, w1=11.9978004939\n",
      "Gradient Descent(32/50): loss=34.2788584242, w0=74.3017132761, w1=12.2526162181\n",
      "Gradient Descent(33/50): loss=32.6771438126, w0=75.2017559022, w1=12.2464233745\n",
      "Gradient Descent(34/50): loss=34.719843914, w0=75.5577380795, w1=12.039471296\n",
      "Gradient Descent(35/50): loss=36.9295215343, w0=74.8483863671, w1=11.2865362248\n",
      "Gradient Descent(36/50): loss=38.9365993473, w0=75.5723143658, w1=10.4036699725\n",
      "Gradient Descent(37/50): loss=47.6321004797, w0=75.9722900986, w1=10.8434781253\n",
      "Gradient Descent(38/50): loss=45.9556233449, w0=75.4270903752, w1=9.86120784567\n",
      "Gradient Descent(39/50): loss=51.8018238199, w0=75.244591479, w1=9.90679681039\n",
      "Gradient Descent(40/50): loss=50.7613631588, w0=72.6165510311, w1=11.8318094608\n",
      "Gradient Descent(41/50): loss=35.3087426125, w0=73.3534317532, w1=12.3901912801\n",
      "Gradient Descent(42/50): loss=31.7139887232, w0=72.8134469505, w1=12.1128446876\n",
      "Gradient Descent(43/50): loss=33.5404531096, w0=74.4804715464, w1=13.4922742124\n",
      "Gradient Descent(44/50): loss=28.9734471847, w0=75.3299469389, w1=14.4171215864\n",
      "Gradient Descent(45/50): loss=30.1724002622, w0=76.9086045236, w1=11.772824285\n",
      "Gradient Descent(46/50): loss=45.3267849071, w0=76.5112724906, w1=11.3227302594\n",
      "Gradient Descent(47/50): loss=45.5167597364, w0=77.0279584684, w1=11.831166353\n",
      "Gradient Descent(48/50): loss=45.8111370945, w0=74.5180008648, w1=13.066013072\n",
      "Gradient Descent(49/50): loss=30.058615414, w0=75.0125398091, w1=13.6647438935\n",
      "Gradient Descent(50/50): loss=29.8496652947, w0=74.7216604789, w1=13.4356330545\n",
      "SGD: execution time=0.021 seconds\n"
     ]
    }
   ],
   "source": [
    "# from stochastic_gradient_descent import *\n",
    "\n",
    "# Define the parameters of the algorithm.\n",
    "max_iters = 50\n",
    "gamma = 0.2\n",
    "batch_size = 1\n",
    "\n",
    "# Initialization\n",
    "w_initial = np.array([0, 0])\n",
    "\n",
    "# Start SGD.\n",
    "start_time = datetime.datetime.now()\n",
    "sgd_losses, sgd_ws = stochastic_gradient_descent(\n",
    "    y, tx, w_initial, batch_size, max_iters, gamma)\n",
    "end_time = datetime.datetime.now()\n",
    "\n",
    "# Print result\n",
    "exection_time = (end_time - start_time).total_seconds()\n",
    "print(\"SGD: execution time={t:.3f} seconds\".format(t=exection_time))"
   ]
  },
  {
   "cell_type": "code",
   "execution_count": null,
   "metadata": {
    "collapsed": true
   },
   "outputs": [],
   "source": [
    "# Time Visualization\n",
    "from ipywidgets import IntSlider, interact\n",
    "def plot_figure(n_iter):\n",
    "    fig = gradient_descent_visualization(\n",
    "        sgd_losses, sgd_ws, grid_losses, grid_w0, grid_w1, mean_x, std_x, height, weight, n_iter)\n",
    "    fig.set_size_inches(10.0, 6.0)\n",
    "\n",
    "interact(plot_figure, n_iter=IntSlider(min=1, max=len(gradient_ws)))"
   ]
  },
  {
   "cell_type": "markdown",
   "metadata": {},
   "source": [
    "# 5 Effect of Outliers and MAE Cost Function, and Subgradient Descent"
   ]
  },
  {
   "cell_type": "markdown",
   "metadata": {},
   "source": [
    "### Exercise 5\n",
    "\n",
    "Load and plot data containing outliers"
   ]
  },
  {
   "cell_type": "code",
   "execution_count": 101,
   "metadata": {},
   "outputs": [
    {
     "data": {
      "text/plain": [
       "[<matplotlib.lines.Line2D at 0x7f6ced695950>]"
      ]
     },
     "execution_count": 101,
     "metadata": {},
     "output_type": "execute_result"
    },
    {
     "data": {
      "image/png": "[encoded data removed]",
      "text/plain": [
       "<matplotlib.figure.Figure at 0x7f6cee3434d0>"
      ]
     },
     "metadata": {},
     "output_type": "display_data"
    }
   ],
   "source": [
    "height, weight, gender = load_data(sub_sample=True, add_outlier=True)\n",
    "x, mean_x, std_x = standardize(height)\n",
    "y, tx = build_model_data(x, weight)\n",
    "plt.plot(y,x,'.')"
   ]
  },
  {
   "cell_type": "code",
   "execution_count": 102,
   "metadata": {},
   "outputs": [
    {
     "name": "stdout",
     "output_type": "stream",
     "text": [
      "Gradient Descent(0/49): loss=5739.67022907, w0=14.813561171, w1=2.2069789732\n",
      "Gradient Descent(1/49): loss=3720.85907228, w0=26.6644101078, w1=3.97256215176\n",
      "Gradient Descent(2/49): loss=2428.81993193, w0=36.1450892572, w1=5.3850286946\n",
      "Gradient Descent(3/49): loss=1601.91488211, w0=43.7296325767, w1=6.51500192888\n",
      "Gradient Descent(4/49): loss=1072.69565022, w0=49.7972672324, w1=7.4189805163\n",
      "Gradient Descent(5/49): loss=733.995341818, w0=54.6513749569, w1=8.14216338624\n",
      "Gradient Descent(6/49): loss=517.227144437, w0=58.5346611365, w1=8.72070968219\n",
      "Gradient Descent(7/49): loss=378.495498114, w0=61.6412900802, w1=9.18354671895\n",
      "Gradient Descent(8/49): loss=289.707244467, w0=64.1265932351, w1=9.55381634836\n",
      "Gradient Descent(9/49): loss=232.882762133, w0=66.1148357591, w1=9.85003205188\n",
      "Gradient Descent(10/49): loss=196.515093439, w0=67.7054297783, w1=10.0870046147\n",
      "Gradient Descent(11/49): loss=173.239785475, w0=68.9779049936, w1=10.276582665\n",
      "Gradient Descent(12/49): loss=158.343588378, w0=69.9958851659, w1=10.4282451052\n",
      "Gradient Descent(13/49): loss=148.810022236, w0=70.8102693037, w1=10.5495750573\n",
      "Gradient Descent(14/49): loss=142.708539905, w0=71.4617766139, w1=10.6466390191\n",
      "Gradient Descent(15/49): loss=138.803591213, w0=71.9829824621, w1=10.7242901884\n",
      "Gradient Descent(16/49): loss=136.30442405, w0=72.3999471407, w1=10.786411124\n",
      "Gradient Descent(17/49): loss=134.704957066, w0=72.7335188835, w1=10.8361078724\n",
      "Gradient Descent(18/49): loss=133.681298196, w0=73.0003762778, w1=10.8758652711\n",
      "Gradient Descent(19/49): loss=133.026156519, w0=73.2138621932, w1=10.9076711901\n",
      "Gradient Descent(20/49): loss=132.606865846, w0=73.3846509256, w1=10.9331159253\n",
      "Gradient Descent(21/49): loss=132.338519815, w0=73.5212819114, w1=10.9534717134\n",
      "Gradient Descent(22/49): loss=132.166778356, w0=73.6305867001, w1=10.9697563439\n",
      "Gradient Descent(23/49): loss=132.056863822, w0=73.7180305311, w1=10.9827840483\n",
      "Gradient Descent(24/49): loss=131.98651852, w0=73.7879855959, w1=10.9932062119\n",
      "Gradient Descent(25/49): loss=131.941497526, w0=73.8439496477, w1=11.0015439427\n",
      "Gradient Descent(26/49): loss=131.912684091, w0=73.8887208891, w1=11.0082141273\n",
      "Gradient Descent(27/49): loss=131.894243492, w0=73.9245378823, w1=11.0135502751\n",
      "Gradient Descent(28/49): loss=131.882441509, w0=73.9531914768, w1=11.0178191933\n",
      "Gradient Descent(29/49): loss=131.874888239, w0=73.9761143524, w1=11.0212343278\n",
      "Gradient Descent(30/49): loss=131.870054147, w0=73.9944526529, w1=11.0239664354\n",
      "Gradient Descent(31/49): loss=131.866960328, w0=74.0091232933, w1=11.0261521216\n",
      "Gradient Descent(32/49): loss=131.864980284, w0=74.0208598057, w1=11.0279006704\n",
      "Gradient Descent(33/49): loss=131.863713056, w0=74.0302490155, w1=11.0292995095\n",
      "Gradient Descent(34/49): loss=131.862902029, w0=74.0377603834, w1=11.0304185808\n",
      "Gradient Descent(35/49): loss=131.862382973, w0=74.0437694777, w1=11.0313138379\n",
      "Gradient Descent(36/49): loss=131.862050776, w0=74.0485767531, w1=11.0320300435\n",
      "Gradient Descent(37/49): loss=131.861838171, w0=74.0524225735, w1=11.032603008\n",
      "Gradient Descent(38/49): loss=131.861702103, w0=74.0554992298, w1=11.0330613796\n",
      "Gradient Descent(39/49): loss=131.86161502, w0=74.0579605548, w1=11.0334280769\n",
      "Gradient Descent(40/49): loss=131.861559287, w0=74.0599296148, w1=11.0337214347\n",
      "Gradient Descent(41/49): loss=131.861523617, w0=74.0615048629, w1=11.033956121\n",
      "Gradient Descent(42/49): loss=131.861500789, w0=74.0627650613, w1=11.03414387\n",
      "Gradient Descent(43/49): loss=131.861486179, w0=74.06377322, w1=11.0342940692\n",
      "Gradient Descent(44/49): loss=131.861476828, w0=74.064579747, w1=11.0344142285\n",
      "Gradient Descent(45/49): loss=131.861470844, w0=74.0652249686, w1=11.034510356\n",
      "Gradient Descent(46/49): loss=131.861467014, w0=74.0657411458, w1=11.034587258\n",
      "Gradient Descent(47/49): loss=131.861464563, w0=74.0661540877, w1=11.0346487796\n",
      "Gradient Descent(48/49): loss=131.861462994, w0=74.0664844411, w1=11.0346979969\n",
      "Gradient Descent(49/49): loss=131.86146199, w0=74.0667487239, w1=11.0347373707\n"
     ]
    },
    {
     "data": {
      "image/png": "[encoded data removed]",
      "text/plain": [
       "<matplotlib.figure.Figure at 0x7f6ced814750>"
      ]
     },
     "metadata": {},
     "output_type": "display_data"
    }
   ],
   "source": [
    "# Define the parameters of the algorithm.\n",
    "max_iters = 50\n",
    "gamma = 0.2\n",
    "\n",
    "# Initialization\n",
    "w_initial = np.array([0, 0])\n",
    "\n",
    "# Start gradient descent.\n",
    "gradient_losses, gradient_ws = gradient_descent(y, tx, w_initial, max_iters, gamma)\n",
    "\n",
    "fig = gradient_descent_visualization(\n",
    "    gradient_losses, gradient_ws, grid_losses, grid_w0, grid_w1, mean_x, std_x, height, weight, max_iters)\n",
    "fig.set_size_inches(10.0, 6.0)"
   ]
  },
  {
   "cell_type": "markdown",
   "metadata": {},
   "source": [
    "### Exercise 6"
   ]
  },
  {
   "cell_type": "markdown",
   "metadata": {},
   "source": [
    "Modify the function `compute_loss(y, tx, w)` for the Mean Absolute Error cost function [here](#compute_loss)"
   ]
  },
  {
   "cell_type": "code",
   "execution_count": 105,
   "metadata": {
    "collapsed": true
   },
   "outputs": [],
   "source": [
    "def compute_MAE(y, tx, w):\n",
    "    \"\"\"Calculate the loss.\n",
    "\n",
    "    You can calculate the loss using mse or mae.\n",
    "    \"\"\"\n",
    "    mae = np.mean(np.absolute((y - tx.dot(w))))\n",
    "    return mae"
   ]
  },
  {
   "cell_type": "code",
   "execution_count": 107,
   "metadata": {
    "collapsed": true
   },
   "outputs": [],
   "source": [
    "def compute_subgradient(y, tx, w):\n",
    "    \"\"\"Compute the gradient.\"\"\"\n",
    "    e = np.sign(tx.dot(w) - y)/len(y)\n",
    "    g1 = np.sum(e)\n",
    "    g2 = e.dot(tx[:,1])\n",
    "    g = np.array([g1,g2])\n",
    "    return g"
   ]
  },
  {
   "cell_type": "code",
   "execution_count": 108,
   "metadata": {
    "collapsed": true
   },
   "outputs": [],
   "source": [
    "def subgradient_descent(y, tx, initial_w, max_iters, gamma):\n",
    "    \"\"\"Gradient descent algorithm.\"\"\"\n",
    "    # Define parameters to store w and loss\n",
    "    ws = [initial_w]\n",
    "    losses = []\n",
    "    w = initial_w\n",
    "    for n_iter in range(max_iters):\n",
    "        # compute gradient and loss\n",
    "        loss = compute_MAE(y,tx,w)\n",
    "        g = compute_subgradient(y,tx,w)\n",
    "        # update w by gradient\n",
    "        w = w - gamma*g\n",
    "        # store w and loss\n",
    "        ws.append(w)\n",
    "        losses.append(loss)\n",
    "        print(\"Gradient Descent({bi}/{ti}): loss={l}, w0={w0}, w1={w1}\".format(\n",
    "              bi=n_iter, ti=max_iters - 1, l=loss, w0=w[0], w1=w[1]))\n",
    "\n",
    "    return losses, ws"
   ]
  },
  {
   "cell_type": "code",
   "execution_count": 111,
   "metadata": {},
   "outputs": [
    {
     "name": "stdout",
     "output_type": "stream",
     "text": [
      "Gradient Descent(0/49): loss=74.0678058549, w0=2.0, w1=2.29503915872e-15\n",
      "Gradient Descent(1/49): loss=72.0678058549, w0=4.0, w1=4.59007831743e-15\n",
      "Gradient Descent(2/49): loss=70.0678058549, w0=6.0, w1=6.88511747615e-15\n",
      "Gradient Descent(3/49): loss=68.0678058549, w0=8.0, w1=9.18015663487e-15\n",
      "Gradient Descent(4/49): loss=66.0678058549, w0=10.0, w1=1.14751957936e-14\n",
      "Gradient Descent(5/49): loss=64.0678058549, w0=12.0, w1=1.37702349523e-14\n",
      "Gradient Descent(6/49): loss=62.0678058549, w0=14.0, w1=1.6065274111e-14\n",
      "Gradient Descent(7/49): loss=60.0678058549, w0=16.0, w1=1.83603132697e-14\n",
      "Gradient Descent(8/49): loss=58.0678058549, w0=18.0, w1=2.06553524285e-14\n",
      "Gradient Descent(9/49): loss=56.0678058549, w0=20.0, w1=2.29503915872e-14\n",
      "Gradient Descent(10/49): loss=54.0678058549, w0=22.0, w1=2.52454307459e-14\n",
      "Gradient Descent(11/49): loss=52.0678058549, w0=24.0, w1=2.75404699046e-14\n",
      "Gradient Descent(12/49): loss=50.0678058549, w0=26.0, w1=2.98355090633e-14\n",
      "Gradient Descent(13/49): loss=48.0678058549, w0=28.0, w1=3.2130548222e-14\n",
      "Gradient Descent(14/49): loss=46.0678058549, w0=30.0, w1=3.44255873808e-14\n",
      "Gradient Descent(15/49): loss=44.0678058549, w0=32.0, w1=3.67206265395e-14\n",
      "Gradient Descent(16/49): loss=42.0678058549, w0=34.0, w1=3.90156656982e-14\n",
      "Gradient Descent(17/49): loss=40.0678058549, w0=36.0, w1=4.13107048569e-14\n",
      "Gradient Descent(18/49): loss=38.0678058549, w0=38.0, w1=4.36057440156e-14\n",
      "Gradient Descent(19/49): loss=36.0678058549, w0=40.0, w1=4.59007831743e-14\n",
      "Gradient Descent(20/49): loss=34.0678058549, w0=42.0, w1=4.81958223331e-14\n",
      "Gradient Descent(21/49): loss=32.0678058549, w0=44.0, w1=5.04908614918e-14\n",
      "Gradient Descent(22/49): loss=30.0678058549, w0=46.0, w1=5.27859006505e-14\n",
      "Gradient Descent(23/49): loss=28.0678058549, w0=48.0, w1=5.50809398092e-14\n",
      "Gradient Descent(24/49): loss=26.091928276, w0=49.9603960396, w1=0.0626797011761\n",
      "Gradient Descent(25/49): loss=24.2177741023, w0=51.8415841584, w1=0.240058048161\n",
      "Gradient Descent(26/49): loss=22.472673459, w0=53.6237623762, w1=0.551105625043\n",
      "Gradient Descent(27/49): loss=20.862243662, w0=55.3267326733, w1=0.951295798305\n",
      "Gradient Descent(28/49): loss=19.3505417984, w0=56.9504950495, w1=1.43330959032\n",
      "Gradient Descent(29/49): loss=17.9687480871, w0=58.4158415842, w1=2.04599942569\n",
      "Gradient Descent(30/49): loss=16.73333622, w0=59.7623762376, w1=2.73807444497\n",
      "Gradient Descent(31/49): loss=15.6074477145, w0=60.9504950495, w1=3.52538275946\n",
      "Gradient Descent(32/49): loss=14.5967276522, w0=62.099009901, w1=4.3384970478\n",
      "Gradient Descent(33/49): loss=13.6154576575, w0=63.1881188119, w1=5.17949460395\n",
      "Gradient Descent(34/49): loss=12.6877186146, w0=64.2178217822, w1=6.04628638765\n",
      "Gradient Descent(35/49): loss=11.7942629119, w0=65.1881188119, w1=6.94333534547\n",
      "Gradient Descent(36/49): loss=10.92371097, w0=66.099009901, w1=7.85654247115\n",
      "Gradient Descent(37/49): loss=10.1016289528, w0=66.9306930693, w1=8.80946851945\n",
      "Gradient Descent(38/49): loss=9.30418632878, w0=67.7425742574, w1=9.76580346594\n",
      "Gradient Descent(39/49): loss=8.53022459777, w0=68.495049505, w1=10.692014615\n",
      "Gradient Descent(40/49): loss=7.84359381131, w0=69.2475247525, w1=11.4997502456\n",
      "Gradient Descent(41/49): loss=7.24676584024, w0=69.900990099, w1=12.3284962489\n",
      "Gradient Descent(42/49): loss=6.71885979947, w0=70.5346534653, w1=13.0808796866\n",
      "Gradient Descent(43/49): loss=6.2555747918, w0=71.1485148515, w1=13.7589837743\n",
      "Gradient Descent(44/49): loss=5.86405109633, w0=71.6831683168, w1=14.3607054259\n",
      "Gradient Descent(45/49): loss=5.57257055349, w0=72.0594059406, w1=14.8381641349\n",
      "Gradient Descent(46/49): loss=5.43279813584, w0=72.2772277228, w1=15.1428180285\n",
      "Gradient Descent(47/49): loss=5.37207353506, w0=72.4356435644, w1=15.3756706009\n",
      "Gradient Descent(48/49): loss=5.33701421046, w0=72.5148514851, w1=15.5514695102\n",
      "Gradient Descent(49/49): loss=5.32226591893, w0=72.5346534653, w1=15.6771862342\n"
     ]
    },
    {
     "data": {
      "image/png": "[encoded data removed]",
      "text/plain": [
       "<matplotlib.figure.Figure at 0x7f6cede32190>"
      ]
     },
     "metadata": {},
     "output_type": "display_data"
    }
   ],
   "source": [
    "# Define the parameters of the algorithm.\n",
    "max_iters = 50\n",
    "gamma = 2\n",
    "\n",
    "# Initialization\n",
    "w_initial = np.array([0, 0])\n",
    "\n",
    "# Start gradient descent.\n",
    "gradient_losses, gradient_ws = subgradient_descent(y, tx, w_initial, max_iters, gamma)\n",
    "\n",
    "fig = gradient_descent_visualization(\n",
    "    gradient_losses, gradient_ws, grid_losses, grid_w0, grid_w1, mean_x, std_x, height, weight, max_iters)\n",
    "fig.set_size_inches(10.0, 6.0)"
   ]
  },
  {
   "cell_type": "code",
   "execution_count": 112,
   "metadata": {
    "collapsed": true
   },
   "outputs": [],
   "source": [
    "def stochastic_subgradient_descent(\n",
    "        y, tx, initial_w, batch_size, max_iters, gamma):\n",
    "    \"\"\"Stochastic gradient descent algorithm.\"\"\"\n",
    "    ws = [initial_w]\n",
    "    losses = []\n",
    "    n_iter = 0\n",
    "    w = initial_w\n",
    "    for minibatch_y, minibatch_tx in batch_iter(y, tx, batch_size, max_iters):\n",
    "        # compute gradient and loss\n",
    "        loss = compute_MAE(y,tx,w)\n",
    "        g = compute_subgradient(minibatch_y,minibatch_tx,w)\n",
    "        # update w by gradient\n",
    "        w = w - gamma*g\n",
    "        # store w and loss\n",
    "        ws.append(w)\n",
    "        losses.append(loss)\n",
    "        n_iter = n_iter + 1\n",
    "        print(\"Gradient Descent({bi}/{ti}): loss={l}, w0={w0}, w1={w1}\".format(\n",
    "              bi=n_iter, ti=max_iters, l=loss, w0=w[0], w1=w[1]))\n",
    "    return losses, ws"
   ]
  },
  {
   "cell_type": "code",
   "execution_count": 116,
   "metadata": {},
   "outputs": [
    {
     "name": "stdout",
     "output_type": "stream",
     "text": [
      "Gradient Descent(1/50): loss=74.0678058549, w0=2.0, w1=-1.23369308081\n",
      "Gradient Descent(2/50): loss=72.0678058549, w0=4.0, w1=2.17984645377\n",
      "Gradient Descent(3/50): loss=70.0678058549, w0=6.0, w1=4.45175995411\n",
      "Gradient Descent(4/50): loss=68.0678058549, w0=8.0, w1=6.2582583212\n",
      "Gradient Descent(5/50): loss=66.0678058549, w0=10.0, w1=5.89535990626\n",
      "Gradient Descent(6/50): loss=64.0678058549, w0=12.0, w1=5.9137252802\n",
      "Gradient Descent(7/50): loss=62.0678058549, w0=14.0, w1=8.65125411135\n",
      "Gradient Descent(8/50): loss=60.0678058549, w0=16.0, w1=11.5446208009\n",
      "Gradient Descent(9/50): loss=58.0678058549, w0=18.0, w1=12.7660981873\n",
      "Gradient Descent(10/50): loss=56.0678058549, w0=20.0, w1=12.4235501487\n",
      "Gradient Descent(11/50): loss=54.0678058549, w0=22.0, w1=13.1215865022\n",
      "Gradient Descent(12/50): loss=52.0678058549, w0=24.0, w1=11.0241170079\n",
      "Gradient Descent(13/50): loss=50.0678058549, w0=26.0, w1=11.769009069\n",
      "Gradient Descent(14/50): loss=48.0678058549, w0=28.0, w1=10.6681972395\n",
      "Gradient Descent(15/50): loss=46.0678058549, w0=30.0, w1=7.28533380978\n",
      "Gradient Descent(16/50): loss=44.0678058549, w0=32.0, w1=6.27643166244\n",
      "Gradient Descent(17/50): loss=42.0678058549, w0=34.0, w1=3.34233966932\n",
      "Gradient Descent(18/50): loss=40.0678058549, w0=36.0, w1=4.32437572984\n",
      "Gradient Descent(19/50): loss=38.0678058549, w0=38.0, w1=6.07578286465\n",
      "Gradient Descent(20/50): loss=36.0678058549, w0=40.0, w1=3.63622209201\n",
      "Gradient Descent(21/50): loss=34.0678058549, w0=42.0, w1=5.49924179899\n",
      "Gradient Descent(22/50): loss=32.0678058549, w0=44.0, w1=7.22647638714\n",
      "Gradient Descent(23/50): loss=30.0678058549, w0=46.0, w1=6.49667101257\n",
      "Gradient Descent(24/50): loss=28.0678058549, w0=48.0, w1=6.61760403144\n",
      "Gradient Descent(25/50): loss=26.0678058549, w0=50.0, w1=8.42093357428\n",
      "Gradient Descent(26/50): loss=24.0678058549, w0=52.0, w1=8.38163301435\n",
      "Gradient Descent(27/50): loss=22.0678058549, w0=54.0, w1=7.8574450742\n",
      "Gradient Descent(28/50): loss=20.0678058549, w0=56.0, w1=8.51207848074\n",
      "Gradient Descent(29/50): loss=18.0678058549, w0=58.0, w1=9.07356443153\n",
      "Gradient Descent(30/50): loss=16.0749500443, w0=60.0, w1=10.9512292978\n",
      "Gradient Descent(31/50): loss=14.0895344625, w0=62.0, w1=8.54717641287\n",
      "Gradient Descent(32/50): loss=12.357831103, w0=64.0, w1=10.301217594\n",
      "Gradient Descent(33/50): loss=10.4825012413, w0=66.0, w1=8.90212178425\n",
      "Gradient Descent(34/50): loss=9.66952928782, w0=68.0, w1=6.78974235726\n",
      "Gradient Descent(35/50): loss=9.95753148208, w0=66.0, w1=8.41819985594\n",
      "Gradient Descent(36/50): loss=9.88306417132, w0=68.0, w1=10.179305424\n",
      "Gradient Descent(37/50): loss=8.24382703437, w0=70.0, w1=10.6888829137\n",
      "Gradient Descent(38/50): loss=7.3848509641, w0=68.0, w1=11.680551444\n",
      "Gradient Descent(39/50): loss=7.67730884747, w0=66.0, w1=12.3012857417\n",
      "Gradient Descent(40/50): loss=8.63306324968, w0=68.0, w1=15.4964578006\n",
      "Gradient Descent(41/50): loss=6.96873567033, w0=70.0, w1=16.7826856469\n",
      "Gradient Descent(42/50): loss=5.91685525268, w0=68.0, w1=18.2355459833\n",
      "Gradient Descent(43/50): loss=7.1720299959, w0=66.0, w1=19.0503302534\n",
      "Gradient Descent(44/50): loss=8.7510649241, w0=68.0, w1=18.7638242556\n",
      "Gradient Descent(45/50): loss=7.29519665391, w0=70.0, w1=17.5545687563\n",
      "Gradient Descent(46/50): loss=6.01364974236, w0=68.0, w1=19.0846249929\n",
      "Gradient Descent(47/50): loss=7.383459492, w0=66.0, w1=17.3549017031\n",
      "Gradient Descent(48/50): loss=8.5249180958, w0=68.0, w1=18.4364439412\n",
      "Gradient Descent(49/50): loss=7.21566985684, w0=66.0, w1=15.3146596146\n",
      "Gradient Descent(50/50): loss=8.46209829924, w0=68.0, w1=15.9179864562\n",
      "SGD: execution time=0.017 seconds\n"
     ]
    },
    {
     "data": {
      "image/png": "[encoded data removed]",
      "text/plain": [
       "<matplotlib.figure.Figure at 0x7f6ced606050>"
      ]
     },
     "metadata": {},
     "output_type": "display_data"
    }
   ],
   "source": [
    "# from stochastic_gradient_descent import *\n",
    "\n",
    "# Define the parameters of the algorithm.\n",
    "max_iters = 50\n",
    "gamma = 2\n",
    "batch_size = 1\n",
    "\n",
    "# Initialization\n",
    "w_initial = np.array([0, 0])\n",
    "\n",
    "# Start SGD.\n",
    "start_time = datetime.datetime.now()\n",
    "sgd_losses, sgd_ws = stochastic_subgradient_descent(\n",
    "    y, tx, w_initial, batch_size, max_iters, gamma)\n",
    "end_time = datetime.datetime.now()\n",
    "\n",
    "# Print result\n",
    "exection_time = (end_time - start_time).total_seconds()\n",
    "print(\"SGD: execution time={t:.3f} seconds\".format(t=exection_time))\n",
    "fig = gradient_descent_visualization(\n",
    "        sgd_losses, sgd_ws, grid_losses, grid_w0, grid_w1, mean_x, std_x, height, weight, max_iters)\n",
    "fig.set_size_inches(10.0, 6.0)"
   ]
  },
  {
   "cell_type": "code",
   "execution_count": null,
   "metadata": {
    "collapsed": true
   },
   "outputs": [],
   "source": []
  }
 ],
 "metadata": {
  "anaconda-cloud": {},
  "kernelspec": {
   "display_name": "Python 2",
   "language": "python",
   "name": "python2"
  },
  "language_info": {
   "codemirror_mode": {
    "name": "ipython",
    "version": 2
   },
   "file_extension": ".py",
   "mimetype": "text/x-python",
   "name": "python",
   "nbconvert_exporter": "python",
   "pygments_lexer": "ipython2",
   "version": "2.7.13"
  }
 },
 "nbformat": 4,
 "nbformat_minor": 1
}
