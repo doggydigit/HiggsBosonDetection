{
 "cells": [
  {
   "cell_type": "markdown",
   "metadata": {},
   "source": [
    "# Set up Environment"
   ]
  },
  {
   "cell_type": "code",
   "execution_count": 1,
   "metadata": {},
   "outputs": [],
   "source": [
    "# Useful starting lines\n",
    "%matplotlib inline\n",
    "import numpy as np\n",
    "import matplotlib.pyplot as plt\n",
    "%load_ext autoreload\n",
    "%autoreload 2\n",
    "\n",
    "# Import functions in scripts\n",
    "import os\n",
    "import sys\n",
    "module_path = os.path.abspath(os.path.join('../scripts'))\n",
    "if module_path not in sys.path:\n",
    "    sys.path.append(module_path)\n",
    "from proj1_helpers import *\n",
    "from implementations import *"
   ]
  },
  {
   "cell_type": "markdown",
   "metadata": {},
   "source": [
    "# Load the data"
   ]
  },
  {
   "cell_type": "code",
   "execution_count": 253,
   "metadata": {
    "collapsed": true
   },
   "outputs": [],
   "source": [
    "targets, traindata, ids = load_csv_data(\"../data/train.csv\",True)\n",
    "nr_traindata, nr_columns = features.shape"
   ]
  },
  {
   "cell_type": "code",
   "execution_count": 254,
   "metadata": {},
   "outputs": [
    {
     "name": "stdout",
     "output_type": "stream",
     "text": [
      "[  1.38470000e+02   5.16550000e+01   9.78270000e+01   2.79800000e+01\n",
      "   9.10000000e-01   1.24711000e+02   2.66600000e+00   3.06400000e+00\n",
      "   4.19280000e+01   1.97760000e+02   1.58200000e+00   1.39600000e+00\n",
      "   2.00000000e-01   3.26380000e+01   1.01700000e+00   3.81000000e-01\n",
      "   5.16260000e+01   2.27300000e+00  -2.41400000e+00   1.68240000e+01\n",
      "  -2.77000000e-01   2.58733000e+02   2.00000000e+00   6.74350000e+01\n",
      "   2.15000000e+00   4.44000000e-01   4.60620000e+01   1.24000000e+00\n",
      "  -2.47500000e+00   1.13497000e+02]\n"
     ]
    }
   ],
   "source": [
    "print(traindata[0][:])"
   ]
  },
  {
   "cell_type": "markdown",
   "metadata": {},
   "source": [
    "# Preprocess Data"
   ]
  },
  {
   "cell_type": "code",
   "execution_count": 466,
   "metadata": {},
   "outputs": [],
   "source": [
    "# Whiten data\n",
    "nr_features=3*nr_columns + 1\n",
    "features = np.zeros([nr_traindata,nr_features])\n",
    "for f in range(0,nr_columns):\n",
    "    features[:,3*f] = (traindata[:,f] - np.mean(traindata[:,f])) / np.std(traindata[:,f])\n",
    "    features[:,3*f+1] = features[:,3*f]**2\n",
    "    features[:,3*f+2] = features[:,3*f]**3\n",
    "features[:,nr_features-1] = np.ones([nr_traindata,1])[:,0]   \n"
   ]
  },
  {
   "cell_type": "markdown",
   "metadata": {},
   "source": [
    "# Train Model"
   ]
  },
  {
   "cell_type": "code",
   "execution_count": 467,
   "metadata": {},
   "outputs": [],
   "source": [
    "from implementations import *\n",
    "weights = np.zeros([1,nr_features])[0]"
   ]
  },
  {
   "cell_type": "code",
   "execution_count": 468,
   "metadata": {},
   "outputs": [],
   "source": [
    "nr_training_iterations = nr_traindata\n",
    "gamma = 0.000001"
   ]
  },
  {
   "cell_type": "code",
   "execution_count": 469,
   "metadata": {},
   "outputs": [],
   "source": [
    "for j in range(0,300):\n",
    "    for i in range(0,nr_training_iterations):\n",
    "        weights = sgd_step(targets[i], features[i,:], weights, gamma)"
   ]
  },
  {
   "cell_type": "code",
   "execution_count": 470,
   "metadata": {
    "collapsed": true
   },
   "outputs": [],
   "source": [
    "for i in range(0,nr_training_iterations):\n",
    "    weights = sgd_step(targets[i], features[i,:], weights, gamma)"
   ]
  },
  {
   "cell_type": "markdown",
   "metadata": {},
   "source": [
    "# Test Model"
   ]
  },
  {
   "cell_type": "code",
   "execution_count": 471,
   "metadata": {},
   "outputs": [],
   "source": [
    "train_predictions = predict_labels(weights, features)"
   ]
  },
  {
   "cell_type": "code",
   "execution_count": 472,
   "metadata": {},
   "outputs": [
    {
     "data": {
      "text/plain": [
       "0.76700000000000002"
      ]
     },
     "execution_count": 472,
     "metadata": {},
     "output_type": "execute_result"
    }
   ],
   "source": [
    "x=train_predictions.dot(targets)\n",
    "1-(nr_traindata-np.sum(x))/(2*nr_traindata)"
   ]
  },
  {
   "cell_type": "code",
   "execution_count": 436,
   "metadata": {},
   "outputs": [
    {
     "name": "stdout",
     "output_type": "stream",
     "text": [
      "[  2.51002559e-03   1.81790590e-02   0.00000000e+00  -4.09909115e-03\n",
      "  -6.51554818e-03   0.00000000e+00   3.04395525e-05   6.63528885e-04\n",
      "   0.00000000e+00   2.53994321e-03   4.80799327e-03   0.00000000e+00\n",
      "   2.06367875e-03  -5.15798158e-04   0.00000000e+00   2.55472825e-03\n",
      "   6.42176530e-03   0.00000000e+00   2.05008077e-03  -6.13040362e-04\n",
      "   0.00000000e+00  -6.45198562e-05  -1.02527174e-03   0.00000000e+00\n",
      "   9.27527360e-05  -7.30083981e-04   0.00000000e+00   2.25117957e-03\n",
      "   1.41129846e-03   0.00000000e+00  -2.05773968e-03  -3.52647216e-04\n",
      "   0.00000000e+00   3.68616858e-03   3.73250115e-03   0.00000000e+00\n",
      "   2.06011401e-03  -5.41435691e-04   0.00000000e+00   3.17576296e-03\n",
      "  -4.08740625e-03   0.00000000e+00   2.85807721e-04   6.04447247e-04\n",
      "   0.00000000e+00  -2.01521437e-04  -4.76654285e-04   0.00000000e+00\n",
      "   1.78873045e-04  -1.14000680e-03   0.00000000e+00   4.25653298e-04\n",
      "   5.64587630e-04   0.00000000e+00   3.14347262e-04   5.27056138e-04\n",
      "   0.00000000e+00   4.72979546e-04   2.01198411e-03   0.00000000e+00\n",
      "   1.37885335e-04   1.85484146e-04   0.00000000e+00   1.88997499e-03\n",
      "   3.28060925e-05   0.00000000e+00   1.92857002e-03  -1.45686977e-03\n",
      "   0.00000000e+00   2.23610284e-03   4.66792692e-03   0.00000000e+00\n",
      "   2.13213604e-03   4.50988203e-03   0.00000000e+00   2.13247817e-03\n",
      "   4.51050985e-03   0.00000000e+00   2.05115354e-03  -6.09434701e-04\n",
      "   0.00000000e+00   2.05918004e-03  -5.48049338e-04   0.00000000e+00\n",
      "   2.05835088e-03  -5.54075731e-04   0.00000000e+00   1.92371514e-03\n",
      "  -7.69932392e-04   0.00000000e+00  -4.75228360e-03]\n"
     ]
    }
   ],
   "source": [
    "print weights[:5000]"
   ]
  },
  {
   "cell_type": "markdown",
   "metadata": {},
   "source": [
    "# Create Submission File"
   ]
  },
  {
   "cell_type": "code",
   "execution_count": 41,
   "metadata": {
    "collapsed": true
   },
   "outputs": [],
   "source": [
    "test_targets, test_data, test_ids = load_csv_data(\"../data/test.csv\",True)\n",
    "test_predictions = predict_labels(weights, test_data)\n",
    "create_csv_submission(test_ids, test_predictions, \"Kozak_Nurmi_Tsai\")"
   ]
  },
  {
   "cell_type": "code",
   "execution_count": 60,
   "metadata": {},
   "outputs": [
    {
     "data": {
      "text/plain": [
       "(5000, 30)"
      ]
     },
     "execution_count": 60,
     "metadata": {},
     "output_type": "execute_result"
    }
   ],
   "source": [
    "train_predictions.shape"
   ]
  },
  {
   "cell_type": "code",
   "execution_count": 64,
   "metadata": {
    "collapsed": true
   },
   "outputs": [],
   "source": [
    "x=np.array([[1,1],[1,1]])\n",
    "y=[1,1]"
   ]
  },
  {
   "cell_type": "code",
   "execution_count": 77,
   "metadata": {},
   "outputs": [
    {
     "data": {
      "text/plain": [
       "array([[1, 1],\n",
       "       [1, 1]])"
      ]
     },
     "execution_count": 77,
     "metadata": {},
     "output_type": "execute_result"
    }
   ],
   "source": [
    "x.transpose()"
   ]
  },
  {
   "cell_type": "code",
   "execution_count": 73,
   "metadata": {},
   "outputs": [
    {
     "data": {
      "text/plain": [
       "(30, 30)"
      ]
     },
     "execution_count": 73,
     "metadata": {},
     "output_type": "execute_result"
    }
   ],
   "source": [
    "weights.shape"
   ]
  },
  {
   "cell_type": "code",
   "execution_count": 67,
   "metadata": {},
   "outputs": [
    {
     "data": {
      "text/plain": [
       "array([[ 0.],\n",
       "       [ 0.],\n",
       "       [ 0.],\n",
       "       [ 0.],\n",
       "       [ 0.],\n",
       "       [ 0.],\n",
       "       [ 0.],\n",
       "       [ 0.],\n",
       "       [ 0.],\n",
       "       [ 0.],\n",
       "       [ 0.],\n",
       "       [ 0.],\n",
       "       [ 0.],\n",
       "       [ 0.],\n",
       "       [ 0.],\n",
       "       [ 0.],\n",
       "       [ 0.],\n",
       "       [ 0.],\n",
       "       [ 0.],\n",
       "       [ 0.],\n",
       "       [ 0.],\n",
       "       [ 0.],\n",
       "       [ 0.],\n",
       "       [ 0.],\n",
       "       [ 0.],\n",
       "       [ 0.],\n",
       "       [ 0.],\n",
       "       [ 0.],\n",
       "       [ 0.],\n",
       "       [ 0.]])"
      ]
     },
     "execution_count": 67,
     "metadata": {},
     "output_type": "execute_result"
    }
   ],
   "source": [
    "np.zeros([nr_features,1])"
   ]
  },
  {
   "cell_type": "code",
   "execution_count": null,
   "metadata": {
    "collapsed": true
   },
   "outputs": [],
   "source": []
  }
 ],
 "metadata": {
  "anaconda-cloud": {},
  "kernelspec": {
   "display_name": "Python 2",
   "language": "python",
   "name": "python2"
  },
  "language_info": {
   "codemirror_mode": {
    "name": "ipython",
    "version": 2
   },
   "file_extension": ".py",
   "mimetype": "text/x-python",
   "name": "python",
   "nbconvert_exporter": "python",
   "pygments_lexer": "ipython2",
   "version": "2.7.13"
  }
 },
 "nbformat": 4,
 "nbformat_minor": 1
}
