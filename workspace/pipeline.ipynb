{
 "cells": [
  {
   "cell_type": "markdown",
   "metadata": {},
   "source": [
    "# Set up Environment"
   ]
  },
  {
   "cell_type": "code",
   "execution_count": 482,
   "metadata": {},
   "outputs": [
    {
     "name": "stdout",
     "output_type": "stream",
     "text": [
      "The autoreload extension is already loaded. To reload it, use:\n",
      "  %reload_ext autoreload\n"
     ]
    }
   ],
   "source": [
    "# Useful starting lines\n",
    "%matplotlib inline\n",
    "import numpy as np\n",
    "import matplotlib.pyplot as plt\n",
    "%load_ext autoreload\n",
    "%autoreload 2\n",
    "\n",
    "# Import functions in scripts\n",
    "import os\n",
    "import sys\n",
    "module_path = os.path.abspath(os.path.join('../scripts'))\n",
    "if module_path not in sys.path:\n",
    "    sys.path.append(module_path)\n",
    "from proj1_helpers import *\n",
    "from implementations import *"
   ]
  },
  {
   "cell_type": "markdown",
   "metadata": {},
   "source": [
    "# Load the data"
   ]
  },
  {
   "cell_type": "code",
   "execution_count": 490,
   "metadata": {
    "collapsed": true
   },
   "outputs": [],
   "source": [
    "targets, traindata, ids = load_csv_data(\"../data/train.csv\",False)\n",
    "nr_traindata, nr_columns = features.shape"
   ]
  },
  {
   "cell_type": "code",
   "execution_count": 254,
   "metadata": {},
   "outputs": [
    {
     "name": "stdout",
     "output_type": "stream",
     "text": [
      "[  1.38470000e+02   5.16550000e+01   9.78270000e+01   2.79800000e+01\n",
      "   9.10000000e-01   1.24711000e+02   2.66600000e+00   3.06400000e+00\n",
      "   4.19280000e+01   1.97760000e+02   1.58200000e+00   1.39600000e+00\n",
      "   2.00000000e-01   3.26380000e+01   1.01700000e+00   3.81000000e-01\n",
      "   5.16260000e+01   2.27300000e+00  -2.41400000e+00   1.68240000e+01\n",
      "  -2.77000000e-01   2.58733000e+02   2.00000000e+00   6.74350000e+01\n",
      "   2.15000000e+00   4.44000000e-01   4.60620000e+01   1.24000000e+00\n",
      "  -2.47500000e+00   1.13497000e+02]\n"
     ]
    }
   ],
   "source": [
    "print(traindata[0][:])"
   ]
  },
  {
   "cell_type": "markdown",
   "metadata": {},
   "source": [
    "# Preprocess Data"
   ]
  },
  {
   "cell_type": "code",
   "execution_count": 483,
   "metadata": {},
   "outputs": [],
   "source": [
    "features = white_cubic_features(traindata,nr_columns,nr_traindata)"
   ]
  },
  {
   "cell_type": "markdown",
   "metadata": {},
   "source": [
    "# Train Model"
   ]
  },
  {
   "cell_type": "code",
   "execution_count": 467,
   "metadata": {},
   "outputs": [],
   "source": [
    "from implementations import *\n",
    "weights = np.zeros([1,nr_features])[0]"
   ]
  },
  {
   "cell_type": "code",
   "execution_count": 468,
   "metadata": {},
   "outputs": [],
   "source": [
    "nr_training_iterations = nr_traindata\n",
    "gamma = 0.000001"
   ]
  },
  {
   "cell_type": "code",
   "execution_count": 475,
   "metadata": {},
   "outputs": [],
   "source": [
    "for j in range(0,300):\n",
    "    for i in range(0,nr_training_iterations):\n",
    "        weights = sgd_step(targets[i], features[i,:], weights, gamma)"
   ]
  },
  {
   "cell_type": "markdown",
   "metadata": {},
   "source": [
    "# Evaluate Training Error"
   ]
  },
  {
   "cell_type": "code",
   "execution_count": 476,
   "metadata": {},
   "outputs": [],
   "source": [
    "train_predictions = predict_labels(weights, features)"
   ]
  },
  {
   "cell_type": "code",
   "execution_count": 477,
   "metadata": {},
   "outputs": [
    {
     "data": {
      "text/plain": [
       "0.77279999999999993"
      ]
     },
     "execution_count": 477,
     "metadata": {},
     "output_type": "execute_result"
    }
   ],
   "source": [
    "1-(nr_traindata-np.sum(train_predictions.dot(targets)))/(2*nr_traindata)"
   ]
  },
  {
   "cell_type": "markdown",
   "metadata": {},
   "source": [
    "# Create Submission File"
   ]
  },
  {
   "cell_type": "code",
   "execution_count": 491,
   "metadata": {},
   "outputs": [],
   "source": [
    "test_targets, test_data, test_ids = load_csv_data(\"../data/test.csv\",False)\n",
    "nr_testdata, nr_testcolumns = test_data.shape\n",
    "test_features = white_cubic_features(test_data,nr_testcolumns,nr_testdata)\n",
    "test_predictions = predict_labels(weights, test_features)\n",
    "create_csv_submission(test_ids, test_predictions, \"Kozak_Nurmi_Tsai\")"
   ]
  },
  {
   "cell_type": "code",
   "execution_count": null,
   "metadata": {
    "collapsed": true
   },
   "outputs": [],
   "source": []
  }
 ],
 "metadata": {
  "anaconda-cloud": {},
  "kernelspec": {
   "display_name": "Python 2",
   "language": "python",
   "name": "python2"
  },
  "language_info": {
   "codemirror_mode": {
    "name": "ipython",
    "version": 2
   },
   "file_extension": ".py",
   "mimetype": "text/x-python",
   "name": "python",
   "nbconvert_exporter": "python",
   "pygments_lexer": "ipython2",
   "version": "2.7.13"
  }
 },
 "nbformat": 4,
 "nbformat_minor": 1
}
