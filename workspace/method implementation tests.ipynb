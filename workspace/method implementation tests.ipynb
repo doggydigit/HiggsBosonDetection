{
 "cells": [
  {
   "cell_type": "markdown",
   "metadata": {},
   "source": [
    "# Set up Environment"
   ]
  },
  {
   "cell_type": "code",
   "execution_count": 1,
   "metadata": {},
   "outputs": [],
   "source": [
    "# Useful starting lines\n",
    "%matplotlib inline\n",
    "import numpy as np\n",
    "import matplotlib.pyplot as plt\n",
    "import matplotlib.gridspec as gridspec\n",
    "import seaborn as sns\n",
    "%load_ext autoreload\n",
    "%autoreload 2\n",
    "\n",
    "# Import functions in scripts\n",
    "import os\n",
    "import sys\n",
    "module_path = os.path.abspath(os.path.join('../scripts'))\n",
    "if module_path not in sys.path:\n",
    "    sys.path.append(module_path)\n",
    "from proj1_helpers import *\n",
    "from implementations import *\n",
    "np.set_printoptions(suppress=True)\n",
    "from sklearn import linear_model"
   ]
  },
  {
   "cell_type": "markdown",
   "metadata": {},
   "source": [
    "# Test implementation of required methods"
   ]
  },
  {
   "cell_type": "code",
   "execution_count": 2,
   "metadata": {},
   "outputs": [
    {
     "name": "stdout",
     "output_type": "stream",
     "text": [
      "SGD(0/999): loss=1.3663943594532684, norm of weights=[ 0.1  -0.06], gamma=0.01\n",
      "SGD(50/999): loss=0.7126086109153997, norm of weights=[ 4.24266928 -2.54560157], gamma=0.01\n",
      "SGD(100/999): loss=0.4009543314904631, norm of weights=[ 7.52571137 -4.51542682], gamma=0.01\n",
      "SGD(150/999): loss=0.2333732690326495, norm of weights=[ 10.44676349  -6.26805809], gamma=0.01\n",
      "SGD(200/999): loss=0.13823920633495262, norm of weights=[ 13.18579019  -7.91147412], gamma=0.01\n",
      "SGD(250/999): loss=0.08268901091592726, norm of weights=[ 15.82536135  -9.49521681], gamma=0.01\n",
      "SGD(300/999): loss=0.04974014886138044, norm of weights=[ 18.4081461  -11.04488766], gamma=0.01\n",
      "SGD(350/999): loss=0.030019563391496598, norm of weights=[ 20.9576945 -12.5746167], gamma=0.01\n",
      "SGD(400/999): loss=0.018153420219786, norm of weights=[ 23.48750843 -14.09250506], gamma=0.01\n",
      "SGD(450/999): loss=0.010990733962229252, norm of weights=[ 26.00550484 -15.6033029 ], gamma=0.01\n",
      "SGD(500/999): loss=0.006658934918883629, norm of weights=[ 28.51638857 -17.10983314], gamma=0.01\n",
      "SGD(550/999): loss=0.0040361754956986795, norm of weights=[ 31.02297831 -18.61378699], gamma=0.01\n",
      "SGD(600/999): loss=0.0024470823535145815, norm of weights=[ 33.52697094 -20.11618256], gamma=0.01\n",
      "SGD(650/999): loss=0.0014838695891918482, norm of weights=[ 36.02939103 -21.61763462], gamma=0.01\n",
      "SGD(700/999): loss=0.0008998797079722285, norm of weights=[ 38.53085832 -23.11851499], gamma=0.01\n",
      "SGD(750/999): loss=0.0005457558334065128, norm of weights=[ 41.03174806 -24.61904884], gamma=0.01\n",
      "SGD(800/999): loss=0.000330999696778964, norm of weights=[ 43.53228764 -26.11937258], gamma=0.01\n",
      "SGD(850/999): loss=0.0002007548621909729, norm of weights=[ 46.03261488 -27.61956893], gamma=0.01\n",
      "SGD(900/999): loss=0.00012176155033969457, norm of weights=[ 48.53281336 -29.11968801], gamma=0.01\n",
      "SGD(950/999): loss=7.385122003747787e-05, norm of weights=[ 51.03293373 -30.61976024], gamma=0.01\n",
      "SGD(0/999): loss=1.3663943594532684, norm of weights=[ 0.1  -0.06], gamma=0.01\n",
      "SGD(50/999): loss=0.7126086109153997, norm of weights=[ 4.24266928 -2.54560157], gamma=0.01\n",
      "SGD(100/999): loss=0.4009543314904631, norm of weights=[ 7.52571137 -4.51542682], gamma=0.01\n",
      "SGD(150/999): loss=0.2333732690326495, norm of weights=[ 10.44676349  -6.26805809], gamma=0.01\n",
      "SGD(200/999): loss=0.13823920633495262, norm of weights=[ 13.18579019  -7.91147412], gamma=0.01\n",
      "SGD(250/999): loss=0.08268901091592726, norm of weights=[ 15.82536135  -9.49521681], gamma=0.01\n",
      "SGD(300/999): loss=0.04974014886138044, norm of weights=[ 18.4081461  -11.04488766], gamma=0.01\n",
      "SGD(350/999): loss=0.030019563391496598, norm of weights=[ 20.9576945 -12.5746167], gamma=0.01\n",
      "SGD(400/999): loss=0.018153420219786, norm of weights=[ 23.48750843 -14.09250506], gamma=0.01\n",
      "SGD(450/999): loss=0.010990733962229252, norm of weights=[ 26.00550484 -15.6033029 ], gamma=0.01\n",
      "SGD(500/999): loss=0.006658934918883629, norm of weights=[ 28.51638857 -17.10983314], gamma=0.01\n",
      "SGD(550/999): loss=0.0040361754956986795, norm of weights=[ 31.02297831 -18.61378699], gamma=0.01\n",
      "SGD(600/999): loss=0.0024470823535145815, norm of weights=[ 33.52697094 -20.11618256], gamma=0.01\n",
      "SGD(650/999): loss=0.0014838695891918482, norm of weights=[ 36.02939103 -21.61763462], gamma=0.01\n",
      "SGD(700/999): loss=0.0008998797079722285, norm of weights=[ 38.53085832 -23.11851499], gamma=0.01\n",
      "SGD(750/999): loss=0.0005457558334065128, norm of weights=[ 41.03174806 -24.61904884], gamma=0.01\n",
      "SGD(800/999): loss=0.000330999696778964, norm of weights=[ 43.53228764 -26.11937258], gamma=0.01\n",
      "SGD(850/999): loss=0.0002007548621909729, norm of weights=[ 46.03261488 -27.61956893], gamma=0.01\n",
      "SGD(900/999): loss=0.00012176155033969457, norm of weights=[ 48.53281336 -29.11968801], gamma=0.01\n",
      "SGD(950/999): loss=7.385122003747787e-05, norm of weights=[ 51.03293373 -30.61976024], gamma=0.01\n"
     ]
    }
   ],
   "source": [
    "xx = np.array([[1,2],[2,3]])\n",
    "yy = np.array([1,3])\n",
    "\n",
    "assert np.isclose(np.array([3.,-1.]),least_squares_GD(yy,xx,np.array([0,0]),100000,0.01)[0]).all()\n",
    "assert np.isclose(np.array([3.,-1.]),least_squares_SGD(yy,xx,np.array([0,0]),100000000,0.1)[0],0.1).all()\n",
    "assert (least_squares(yy,xx)[0] == np.array([3.,-1.])).all()\n",
    "assert (ridge_regression(yy,xx,0)[0] == np.array([3.,-1.])).all()\n",
    "\n",
    "yy = np.array([0,1])\n",
    "ws = logistic_regression(yy,xx,np.array([0,0]),1000,0.01)[0]\n",
    "np.exp(xx.dot(ws))/(1+np.exp(xx.dot(ws)))\n",
    "assert np.isclose(np.exp(xx.dot(ws))/(1+np.exp(xx.dot(ws))),np.array([0.,1.]),atol=0.1).all()\n",
    "\n",
    "ws = reg_logistic_regression(yy,xx,0,np.array([0,0]),1000,0.01)[0]\n",
    "np.exp(xx.dot(ws))/(1+np.exp(xx.dot(ws)))\n",
    "assert np.isclose(np.exp(xx.dot(ws))/(1+np.exp(xx.dot(ws))),np.array([0.,1.]),atol=0.1).all()"
   ]
  },
  {
   "cell_type": "code",
   "execution_count": null,
   "metadata": {
    "collapsed": true
   },
   "outputs": [],
   "source": []
  }
 ],
 "metadata": {
  "anaconda-cloud": {},
  "kernelspec": {
   "display_name": "Python 3",
   "language": "python",
   "name": "python3"
  },
  "language_info": {
   "codemirror_mode": {
    "name": "ipython",
    "version": 3
   },
   "file_extension": ".py",
   "mimetype": "text/x-python",
   "name": "python",
   "nbconvert_exporter": "python",
   "pygments_lexer": "ipython3",
   "version": "3.6.1"
  }
 },
 "nbformat": 4,
 "nbformat_minor": 1
}
