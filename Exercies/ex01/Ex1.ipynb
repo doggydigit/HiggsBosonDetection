{
 "cells": [
  {
   "cell_type": "code",
   "execution_count": 29,
   "metadata": {
    "collapsed": true
   },
   "outputs": [],
   "source": [
    "%matplotlib inline\n",
    "import numpy as np\n",
    "import matplotlib.pyplot as plt\n",
    "from numpy import linalg as la"
   ]
  },
  {
   "cell_type": "code",
   "execution_count": 30,
   "metadata": {
    "collapsed": true
   },
   "outputs": [],
   "source": [
    "def MatrixStandardization(matrix):\n",
    "    mean = matrix.mean(0)\n",
    "    variance = matrix.variance(0)\n",
    "    return (matrix-mean)/variance"
   ]
  },
  {
   "cell_type": "code",
   "execution_count": 47,
   "metadata": {},
   "outputs": [],
   "source": [
    "def PairwiseDistance(p,q):\n",
    "    lenp = len(p)\n",
    "    lenq = len(q)\n",
    "    distances = np.zeros((lenp,lenq))\n",
    "    for i in range(0,lenp):\n",
    "        for j in range(0,lenq):\n",
    "            distances[i,j] = la.norm(p[i]-q[j])\n",
    "    return distances"
   ]
  },
  {
   "cell_type": "code",
   "execution_count": 52,
   "metadata": {},
   "outputs": [
    {
     "ename": "IndentationError",
     "evalue": "expected an indented block (<ipython-input-52-1eeee6ebffed>, line 3)",
     "output_type": "error",
     "traceback": [
      "\u001b[0;36m  File \u001b[0;32m\"<ipython-input-52-1eeee6ebffed>\"\u001b[0;36m, line \u001b[0;32m3\u001b[0m\n\u001b[0;31m    def MostLikely(x,mu1,sigma1,mu2,sigma2):\u001b[0m\n\u001b[0m      ^\u001b[0m\n\u001b[0;31mIndentationError\u001b[0m\u001b[0;31m:\u001b[0m expected an indented block\n"
     ]
    }
   ],
   "source": [
    "def MostLikely(x,mu1,sigma1,mu2,sigma2):\n",
    "    p1 = np.exp()/(2*np.pi)\n",
    "    return mostlikelymodels"
   ]
  },
  {
   "cell_type": "code",
   "execution_count": 48,
   "metadata": {},
   "outputs": [
    {
     "name": "stdout",
     "output_type": "stream",
     "text": [
      "[[ 0.  0.  0.  0.  0.  0.]\n",
      " [ 0.  0.  0.  0.  0.  0.]\n",
      " [ 0.  0.  0.  0.  0.  0.]\n",
      " [ 0.  0.  0.  0.  0.  0.]\n",
      " [ 0.  0.  0.  0.  0.  0.]\n",
      " [ 0.  0.  0.  0.  0.  0.]]\n",
      "[[ 0.          6.32455532  4.24264069  7.07106781  0.          2.82842712]\n",
      " [ 6.32455532  0.          3.16227766  3.16227766  6.32455532  4.        ]\n",
      " [ 4.24264069  3.16227766  0.          2.82842712  4.24264069  1.41421356]\n",
      " [ 7.07106781  3.16227766  2.82842712  0.          7.07106781  4.24264069]\n",
      " [ 0.          6.32455532  4.24264069  7.07106781  0.          2.82842712]\n",
      " [ 2.82842712  4.          1.41421356  4.24264069  2.82842712  0.        ]]\n"
     ]
    }
   ],
   "source": [
    "a=np.array([[1,2],[3,8],[4,5],[6,7],[1,2],[3,4]])\n",
    "b=np.array([[1,2],[3,8],[4,5],[6,7],[1,2],[3,4]])\n",
    "\n",
    "PairwiseDistance(a,b)"
   ]
  },
  {
   "cell_type": "code",
   "execution_count": 33,
   "metadata": {},
   "outputs": [
    {
     "data": {
      "text/plain": [
       "array([[ 0.,  0.,  0.,  0.],\n",
       "       [ 0.,  0.,  0.,  0.],\n",
       "       [ 0.,  0.,  0.,  0.]])"
      ]
     },
     "execution_count": 33,
     "metadata": {},
     "output_type": "execute_result"
    }
   ],
   "source": [
    "np.zeros((3,4))"
   ]
  },
  {
   "cell_type": "code",
   "execution_count": null,
   "metadata": {
    "collapsed": true
   },
   "outputs": [],
   "source": []
  }
 ],
 "metadata": {
  "kernelspec": {
   "display_name": "Python 2",
   "language": "python",
   "name": "python2"
  },
  "language_info": {
   "codemirror_mode": {
    "name": "ipython",
    "version": 2
   },
   "file_extension": ".py",
   "mimetype": "text/x-python",
   "name": "python",
   "nbconvert_exporter": "python",
   "pygments_lexer": "ipython2",
   "version": "2.7.13"
  }
 },
 "nbformat": 4,
 "nbformat_minor": 2
}
